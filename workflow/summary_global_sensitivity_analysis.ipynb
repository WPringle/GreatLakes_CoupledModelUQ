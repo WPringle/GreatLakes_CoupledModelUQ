{
 "cells": [
  {
   "cell_type": "markdown",
   "id": "ad64b47c",
   "metadata": {},
   "source": [
    "# Conduct sensitivity analysis for T2 and LST"
   ]
  },
  {
   "cell_type": "markdown",
   "id": "80b27396",
   "metadata": {},
   "source": [
    "## Setting up"
   ]
  },
  {
   "cell_type": "markdown",
   "id": "1a323b36",
   "metadata": {},
   "source": [
    "### Import packages here"
   ]
  },
  {
   "cell_type": "code",
   "execution_count": 1,
   "id": "bd834566",
   "metadata": {},
   "outputs": [],
   "source": [
    "import pickle\n",
    "from xarray import open_dataset\n",
    "from numpy import (sqrt, append, isnan, datetime64, arange, linspace, zeros, sum, array, dot, stack\n",
    "    ,maximum, minimum, fmax, fmin, ceil, sign, quantile)\n",
    "from sklearn.decomposition import PCA\n",
    "from sklearn.neighbors import KDTree\n",
    "\n",
    "import matplotlib.pyplot as plt\n",
    "import matplotlib.dates as mdates\n",
    "from matplotlib import colorbar, colors\n",
    "import matplotlib.patches as mpatches\n",
    "\n",
    "# some parameters\n",
    "plt.rcParams.update({'font.size': 14})\n",
    "#dpi = 200"
   ]
  },
  {
   "cell_type": "code",
   "execution_count": 2,
   "id": "2ecc9514",
   "metadata": {},
   "outputs": [],
   "source": [
    "from wrf_fvcom.variables import (\n",
    "    WRF_PBL_SFCLAY, WRF_WaterZ0, WRF_MP, WRF_RA, WRF_LM,\n",
    "    FVCOM_Prandtl, FVCOM_SWRadiationAbsorption,\n",
    "    FVCOM_VerticalMixing, FVCOM_WindStress,\n",
    ")\n",
    "from wrf_fvcom.perturb import (\n",
    "    transform_perturbation_matrix,\n",
    ")\n",
    "from surrogate.utils import surrogate_model_predict\n",
    "from surrogate.gsa import compute_sensitivities, plot_sens"
   ]
  },
  {
   "cell_type": "markdown",
   "id": "9a6ad6f6",
   "metadata": {},
   "source": [
    "### Set the variables to analyze and get list of filenames"
   ]
  },
  {
   "cell_type": "code",
   "execution_count": 3,
   "id": "e79ab349",
   "metadata": {},
   "outputs": [],
   "source": [
    "# time start and end \n",
    "ts = datetime64('2018-06-01')\n",
    "te = datetime64('2018-09-01')\n",
    "\n",
    "# choose variables want to analyze..\n",
    "variables = [WRF_PBL_SFCLAY,\n",
    "             WRF_MP, \n",
    "             WRF_RA,\n",
    "             WRF_WaterZ0,\n",
    "             WRF_LM,\n",
    "             FVCOM_VerticalMixing,\n",
    "             FVCOM_WindStress,\n",
    "             FVCOM_Prandtl,\n",
    "             FVCOM_SWRadiationAbsorption,\n",
    "            ]\n",
    "\n",
    "# get the variable names as a list\n",
    "variable_names = [variable.name for variable in variables]\n",
    "\n",
    "# test set does not have WRF_LM inside\n",
    "variable_names_test = [variable.name for variable in variables if variable is not WRF_LM]\n",
    "no_name_I = [4]\n",
    "test_run_I = [0,2,4,5,8]"
   ]
  },
  {
   "cell_type": "code",
   "execution_count": 4,
   "id": "9f522438",
   "metadata": {},
   "outputs": [],
   "source": [
    "#filenames\n",
    "train_parameters_file = '../output/perturbation_matrix_9variables_korobov18.nc'\n",
    "test_parameters_file = '../output/perturbation_matrix_8variables_korobov19.nc'\n",
    "train_output_filename = '../output/wfv_global_daily_temperature_training_set.pkl'\n",
    "test_output_filename = '../output/wfv_global_daily_temperature_test_set.pkl'\n",
    "\n",
    "#surrogate output filename\n",
    "LST_surrogate_filename = '../output/LST_klsurrogate_models.pkl'\n",
    "T2_surrogate_filename = '../output/T2_klsurrogate_models.pkl'\n",
    "\n",
    "# fvcom grid\n",
    "# directories\n",
    "proj_dir = '/lus/grand/projects/COMPASS-GLM/WRF+FVCOM_Sensitivity/'\n",
    "fvcom_grid_file = proj_dir + 'fvcom_grid.nc' "
   ]
  },
  {
   "cell_type": "markdown",
   "id": "b1f76d13",
   "metadata": {},
   "source": [
    "## Load inputs "
   ]
  },
  {
   "cell_type": "code",
   "execution_count": 5,
   "id": "03fb47ac",
   "metadata": {},
   "outputs": [],
   "source": [
    "# fvcom grid\n",
    "fvcom = open_dataset(fvcom_grid_file,decode_times=False, drop_variables=['siglay', 'siglev'])"
   ]
  },
  {
   "cell_type": "markdown",
   "id": "08eb863e-f9f5-4a9f-98aa-3ef50cfd7366",
   "metadata": {},
   "source": [
    "### parameter info"
   ]
  },
  {
   "cell_type": "code",
   "execution_count": 6,
   "id": "f512cc00",
   "metadata": {},
   "outputs": [],
   "source": [
    "# Get parameter training range and ensemble\n",
    "params = open_dataset(train_parameters_file)\n",
    "pnames = params.sel(variable=variable_names).variable.values\n",
    "ptrain = params.sel(variable=variable_names).perturbation_matrix\n",
    "\n",
    "# transform the input matrix\n",
    "variable_matrix_train = transform_perturbation_matrix(ptrain)"
   ]
  },
  {
   "cell_type": "code",
   "execution_count": 7,
   "id": "c35806f2",
   "metadata": {},
   "outputs": [],
   "source": [
    "# Get parameter test range and ensemble\n",
    "params_t = open_dataset(test_parameters_file)\n",
    "pnames_t = params_t.sel(variable=variable_names_test).isel(run=test_run_I).variable.values\n",
    "\n",
    "# combining both sets of runs\n",
    "ptest_t = params_t.sel(variable=variable_names_test).isel(run=test_run_I).perturbation_matrix\n",
    "#\n",
    "# transform into same variable number as train set and put value of 1 for Land Model\n",
    "ptest = ptrain.isel(run=test_run_I)\n",
    "ptest[:,[idx for idx, var_name in enumerate(variable_names) if idx not in no_name_I]] = ptest_t.values\n",
    "ptest[:,no_name_I] = 1\n",
    "\n",
    "# transform the input matrix\n",
    "variable_matrix_test_t = transform_perturbation_matrix(ptest)\n",
    "# transform into same scheme number as train set and put value of 0 where doesn't exist\n",
    "variable_matrix_test = variable_matrix_train.isel(run=test_run_I)\n",
    "scheme_names = variable_matrix_test['scheme'].values\n",
    "no_scheme_I = [idx for idx, scheme_name in enumerate(scheme_names)\n",
    "               if scheme_name not in variable_matrix_test_t['scheme'].values]\n",
    "variable_matrix_test[:,[idx for idx, scheme_name in enumerate(scheme_names) if idx not in no_scheme_I]] = \\\n",
    "    variable_matrix_test_t.values\n",
    "variable_matrix_test[:,no_scheme_I] = 0"
   ]
  },
  {
   "cell_type": "markdown",
   "id": "d5ad42a3-c623-4419-89dc-549117238bc6",
   "metadata": {},
   "source": [
    "### data info"
   ]
  },
  {
   "cell_type": "code",
   "execution_count": 8,
   "id": "92b12046",
   "metadata": {},
   "outputs": [
    {
     "name": "stdout",
     "output_type": "stream",
     "text": [
      "Done loading training data from binary file\n",
      "Done loading test data from binary file\n"
     ]
    }
   ],
   "source": [
    "#load the training data\n",
    "with open(train_output_filename, 'rb') as fp:\n",
    "    train_dict = pickle.load(fp)\n",
    "    print('Done loading training data from binary file')\n",
    "    \n",
    "with open(test_output_filename, 'rb') as fp:\n",
    "    test_dict = pickle.load(fp)\n",
    "    print('Done loading test data from binary file')"
   ]
  },
  {
   "cell_type": "code",
   "execution_count": 9,
   "id": "3a319a62",
   "metadata": {},
   "outputs": [
    {
     "name": "stdout",
     "output_type": "stream",
     "text": [
      "Training set info:\n",
      "Ensembles size : 18\n",
      "Parameter dim : 20\n",
      "FVCOM Timeseries size : 112\n",
      "WRF Timeseries size : 111\n",
      "Spatial size FVCOM: 35749\n",
      "Spatial size WRF: 484,543\n"
     ]
    }
   ],
   "source": [
    "# Get and check train sizes\n",
    "nens = len(train_dict['runs'])\n",
    "ntime = train_dict['LST'][0][0].shape[0]\n",
    "ntime_, ngrid = train_dict['LST'][0][1].shape\n",
    "nens_ = len(train_dict['LST'])\n",
    "nens__, ndim = variable_matrix_train.shape\n",
    "ntime__, nlat, nlon = train_dict['T2'][0][1].shape\n",
    "\n",
    "# sanity check\n",
    "assert(ntime==ntime_)\n",
    "assert(nens==nens_)\n",
    "assert(nens==nens__)\n",
    "\n",
    "# Print useful info\n",
    "print('Training set info:')\n",
    "print(f'Ensembles size : {nens}')\n",
    "print(f'Parameter dim : {ndim}')\n",
    "print(f'FVCOM Timeseries size : {ntime}')\n",
    "print(f'WRF Timeseries size : {ntime__}')\n",
    "print(f'Spatial size FVCOM: {ngrid}')\n",
    "print(f'Spatial size WRF: {nlat},{nlon}')\n",
    "\n",
    "nens_train = nens"
   ]
  },
  {
   "cell_type": "code",
   "execution_count": 10,
   "id": "b889ba16",
   "metadata": {},
   "outputs": [
    {
     "name": "stdout",
     "output_type": "stream",
     "text": [
      "Test set info:\n",
      "Ensembles size : 5\n",
      "Parameter dim : 20\n",
      "FVCOM Timeseries size : 112\n",
      "WRF Timeseries size : 111\n",
      "Spatial size FVCOM: 35749\n",
      "Spatial size WRF: 484,543\n"
     ]
    }
   ],
   "source": [
    "# Get and check test sizes\n",
    "nens = len(test_dict['runs'])\n",
    "ntime = test_dict['LST'][0][0].shape[0]\n",
    "ntime_, ngrid = test_dict['LST'][0][1].shape\n",
    "nens_ = len(test_dict['LST'])\n",
    "nens__, ndim = variable_matrix_test.shape\n",
    "ntime__, nlat, nlon = test_dict['T2'][0][1].shape\n",
    "\n",
    "# sanity check\n",
    "assert(ntime==ntime_)\n",
    "assert(nens==nens_)\n",
    "assert(nens==nens__)\n",
    "\n",
    "# Print useful info\n",
    "print('Test set info:')\n",
    "print(f'Ensembles size : {nens}')\n",
    "print(f'Parameter dim : {ndim}')\n",
    "print(f'FVCOM Timeseries size : {ntime}')\n",
    "print(f'WRF Timeseries size : {ntime__}')\n",
    "print(f'Spatial size FVCOM: {ngrid}')\n",
    "print(f'Spatial size WRF: {nlat},{nlon}')\n",
    "\n",
    "nens_test = nens"
   ]
  },
  {
   "cell_type": "markdown",
   "id": "fa439e9b-e65d-4175-89fb-02975a505572",
   "metadata": {},
   "source": [
    "### forming lake masks"
   ]
  },
  {
   "cell_type": "code",
   "execution_count": 11,
   "id": "e262681c-4271-4634-b2cd-5222ea64928d",
   "metadata": {},
   "outputs": [
    {
     "data": {
      "image/png": "[encoded data removed]",
      "text/plain": [
       "<Figure size 432x288 with 1 Axes>"
      ]
     },
     "metadata": {
      "needs_background": "light"
     },
     "output_type": "display_data"
    }
   ],
   "source": [
    "# FVCOM mask\n",
    "lon = train_dict['LST'][0][1].lon.values\n",
    "lat = train_dict['LST'][0][1].lat.values\n",
    "superior = (lat > 46.2) & (lon < 275.9)\n",
    "plt.plot(lon[superior],lat[superior],'k.')\n",
    "erie = (lat < 43) & (lon > 275)\n",
    "plt.plot(lon[erie],lat[erie],'r.')\n",
    "ontario = (lat > 43) & (lat < 44.55) & (lon > 280)\n",
    "plt.plot(lon[ontario],lat[ontario],'b.')\n",
    "michigan = (lat < 46.25) & (lon < 275.25)\n",
    "plt.plot(lon[michigan],lat[michigan],'g.')\n",
    "huron = ~((michigan) | (superior) | (erie) | (ontario)) & (lon < 282)\n",
    "plt.plot(lon[huron],lat[huron],'y.')\n",
    "plt.show()\n",
    "\n",
    "lake_dict = {}\n",
    "lake_dict['LST'] = {'Superior': superior,\n",
    "             'Huron': huron,\n",
    "             'Michigan': michigan,\n",
    "             'Ontario': ontario,\n",
    "             'Erie': erie,\n",
    "            }"
   ]
  },
  {
   "cell_type": "code",
   "execution_count": 12,
   "id": "b6bed879-e6ec-4ae3-9dd3-6eade5b915b9",
   "metadata": {},
   "outputs": [
    {
     "data": {
      "text/plain": [
       "[<matplotlib.lines.Line2D at 0x14f3d2aaabb0>]"
      ]
     },
     "execution_count": 12,
     "metadata": {},
     "output_type": "execute_result"
    },
    {
     "data": {
      "image/png": "[encoded data removed]",
      "text/plain": [
       "<Figure size 432x288 with 1 Axes>"
      ]
     },
     "metadata": {
      "needs_background": "light"
     },
     "output_type": "display_data"
    }
   ],
   "source": [
    "# WRF mask\n",
    "wrflon = train_dict['T2'][0][1].XLONG.values + 360\n",
    "wrflat = train_dict['T2'][0][1].XLAT.values\n",
    "wrf_points = stack((wrflon.flatten(),wrflat.flatten())).transpose()\n",
    "\n",
    "var = 'T2m'\n",
    "lake_dict[var] = {'Superior': superior,\n",
    "             'Huron': huron,\n",
    "             'Michigan': michigan,\n",
    "             'Ontario': ontario,\n",
    "             'Erie': erie,\n",
    "            }\n",
    "for ll,lake in enumerate(lake_dict[var]):\n",
    "    lakeI = lake_dict[var][lake]\n",
    "    kdt = KDTree(stack((lon[lakeI],lat[lakeI])).transpose())\n",
    "    d,k = kdt.query(wrf_points)\n",
    "    ii = (d < 5/111).squeeze()\n",
    "    plt.plot(lon[lakeI],lat[lakeI],'k.')\n",
    "    plt.plot(wrf_points[ii,0],wrf_points[ii,1],'.')\n",
    "    lake_dict[var][lake] = ii\n",
    "    if ll == 0:\n",
    "        all_lakes = ii\n",
    "    else:\n",
    "        all_lakes = ii | all_lakes\n",
    "    \n",
    "land = ~all_lakes\n",
    "plt.plot(wrf_points[land,0],wrf_points[land,1],'.')"
   ]
  },
  {
   "cell_type": "code",
   "execution_count": 13,
   "id": "e0832370",
   "metadata": {},
   "outputs": [
    {
     "data": {
      "text/plain": [
       "(18, 3288908)"
      ]
     },
     "metadata": {},
     "output_type": "display_data"
    },
    {
     "data": {
      "text/plain": [
       "(5, 3288908)"
      ]
     },
     "metadata": {},
     "output_type": "display_data"
    }
   ],
   "source": [
    "# construct the training data into right dimensions\n",
    "model_data = {}\n",
    "model_data['LST'] = {}\n",
    "ntime2 = {}\n",
    "for rdx, run in enumerate(train_dict['LST']):\n",
    "    tdx = (run[0] >= ts) & (run[0] < te)\n",
    "    ntime2['LST'] = tdx.sum()\n",
    "    value_temp = run[1].isel(time=tdx).values.reshape(1,-1)\n",
    "    if rdx == 0:\n",
    "        model_data['LST']['train'] = value_temp\n",
    "    else:\n",
    "        model_data['LST']['train'] = append(model_data['LST']['train'],value_temp,axis=0)\n",
    "display(model_data['LST']['train'].shape)\n",
    "        \n",
    "# construct the training data into right dimensions\n",
    "for rdx, run in enumerate(test_dict['LST']):\n",
    "    tdx = (run[0] >= ts) & (run[0] < te)\n",
    "    ntime2_ = tdx.sum()\n",
    "    value_temp = run[1].isel(time=tdx).values.reshape(1,-1)\n",
    "    if rdx == 0:\n",
    "        model_data['LST']['test'] = value_temp\n",
    "    else:\n",
    "        model_data['LST']['test'] = append(model_data['LST']['test'],value_temp,axis=0)\n",
    "assert(ntime2['LST'] == ntime2_)\n",
    "\n",
    "display(model_data['LST']['test'].shape)"
   ]
  },
  {
   "cell_type": "code",
   "execution_count": 14,
   "id": "cc5ae6d1-82ad-4116-b787-2a04c5877acd",
   "metadata": {},
   "outputs": [
    {
     "data": {
      "text/plain": [
       "(18, 23915892)"
      ]
     },
     "metadata": {},
     "output_type": "display_data"
    },
    {
     "data": {
      "text/plain": [
       "(5, 23915892)"
      ]
     },
     "metadata": {},
     "output_type": "display_data"
    }
   ],
   "source": [
    "# construct the training data into right dimensions\n",
    "model_data['T2m'] = {} \n",
    "for rdx, run in enumerate(train_dict['T2']):\n",
    "    tdx = (run[0] >= ts) & (run[0] < te)\n",
    "    ntime2['T2m'] = tdx.sum()\n",
    "    value_temp = run[1].isel(time=tdx).values.reshape(1,-1)\n",
    "    if rdx == 0:\n",
    "        model_data['T2m']['train'] = value_temp\n",
    "    else:\n",
    "        model_data['T2m']['train'] = append(model_data['T2m']['train'],value_temp,axis=0)\n",
    "display(model_data['T2m']['train'].shape)\n",
    "        \n",
    "# construct the training data into right dimensions\n",
    "for rdx, run in enumerate(test_dict['T2']):\n",
    "    tdx = (run[0] >= ts) & (run[0] < te)\n",
    "    ntime2_ = tdx.sum()\n",
    "    value_temp = run[1].isel(time=tdx).values.reshape(1,-1)\n",
    "    if rdx == 0:\n",
    "        model_data['T2m']['test'] = value_temp\n",
    "    else:\n",
    "        model_data['T2m']['test'] = append(model_data['T2m']['test'],value_temp,axis=0)\n",
    "assert(ntime2['T2m'] == ntime2_)\n",
    "\n",
    "display(model_data['T2m']['test'].shape)"
   ]
  },
  {
   "cell_type": "markdown",
   "id": "bc5c5bb0-f73c-42bc-90c9-86fcf1fee35d",
   "metadata": {},
   "source": [
    "### surrogate models"
   ]
  },
  {
   "cell_type": "code",
   "execution_count": 15,
   "id": "ab59fbc0-b437-47dc-b811-56995ad61545",
   "metadata": {},
   "outputs": [
    {
     "name": "stdout",
     "output_type": "stream",
     "text": [
      "Done loading LST surrogate from binary file\n",
      "Done loading T2 surrogate from binary file\n"
     ]
    }
   ],
   "source": [
    "# load the surrogate models\n",
    "kl_surrogate = {}\n",
    "with open(LST_surrogate_filename, 'rb') as fp:\n",
    "    kl_surrogate['LST'] = pickle.load(fp)\n",
    "    print('Done loading LST surrogate from binary file')\n",
    "    \n",
    "with open(T2_surrogate_filename, 'rb') as fpp:\n",
    "    kl_surrogate['T2m'] = pickle.load(fpp)\n",
    "    print('Done loading T2 surrogate from binary file')\n",
    "    \n",
    "# surrogate input settings\n",
    "# using hot_enconding or not\n",
    "hot_encode = True\n",
    "# setup training and test inputs based on onehotencoding or not\n",
    "x_vals = {}\n",
    "if hot_encode:\n",
    "    x_vals['train'] = variable_matrix_train\n",
    "    x_vals['test'] = variable_matrix_test\n",
    "else:\n",
    "    x_vals['train'] = ptrain\n",
    "    x_vals['test'] = ptest"
   ]
  },
  {
   "cell_type": "markdown",
   "id": "690461f5-6f43-47d1-804e-8dad2f88897a",
   "metadata": {},
   "source": [
    "## Decompose the time series"
   ]
  },
  {
   "cell_type": "code",
   "execution_count": 16,
   "id": "baf77b2b-72f2-4915-b9e0-566758c32056",
   "metadata": {},
   "outputs": [],
   "source": [
    "# some variables for surrogate\n",
    "var_explained = len(variables) #for PCA\n",
    "\n",
    "# randomization\n",
    "random_seeds = range(111,999+111,111)\n",
    "#seed = 666 # val_loss = 0.71 , BO gives ??\n",
    "#seed = 111 # val_loss = 0.67,  BO gives BO1 parameters\n",
    "#seed = 99 # val_loss = 0.73 , BO gives BO1 except COARE, GOTM k-eps\n",
    "#seed = 222 # val_loss = 0.66, BO gives BO1 except COARE, GOTM k-eps\n",
    "#seed = None\n",
    "\n",
    "important_variables = [WRF_PBL_SFCLAY, WRF_RA, WRF_LM, FVCOM_WindStress]\n",
    "pname_paper = ['PBL_SFC', 'LW+SW Rad', 'LSM', 'WS']"
   ]
  },
  {
   "cell_type": "code",
   "execution_count": 17,
   "id": "8fdf6d5c-66fa-413f-a40d-0c01d88fa55d",
   "metadata": {},
   "outputs": [
    {
     "name": "stdout",
     "output_type": "stream",
     "text": [
      "[0.59524146 0.10616204 0.04990378 0.04276877 0.03184092 0.0306296\n",
      " 0.02111236 0.0180193  0.01771278]\n",
      "0.9133910082750212\n",
      "number of eigenmodes is 9\n",
      "[0.6299013  0.09171014 0.06312568 0.03856222 0.03501988 0.02503296\n",
      " 0.01906686 0.01674813 0.01424874]\n",
      "0.9334159\n",
      "number of eigenmodes is 9\n"
     ]
    }
   ],
   "source": [
    "pca_data = {}\n",
    "for var in model_data:\n",
    "    trainY = model_data[var]['train']\n",
    "    testY = model_data[var]['test']\n",
    "    # Decompose the spatiotemporal series using PCA/KL\n",
    "    pca_obj = PCA(n_components=var_explained, \n",
    "                  random_state=random_seeds[0], \n",
    "                  whiten=True)\n",
    "    pca_obj.fit(trainY)\n",
    "\n",
    "    print(pca_obj.explained_variance_ratio_)\n",
    "    print(pca_obj.explained_variance_ratio_.sum())\n",
    "    print(f'number of eigenmodes is {pca_obj.n_components_}')\n",
    "    \n",
    "    pca_data[var] = {}\n",
    "    # get the outputs from the PCA\n",
    "    pca_data[var]['klxi_train'] = pca_obj.transform(trainY)\n",
    "    pca_data[var]['klxi_test']  = pca_obj.transform(testY)\n",
    "    pca_data[var]['eigenratio'] = pca_obj.explained_variance_ratio_\n",
    "    pca_data[var]['neig'] = pca_obj.n_components_\n",
    "    pca_data[var]['eigenvalues'] = pca_obj.explained_variance_\n",
    "    pca_data[var]['eigenmodes'] = pca_obj.components_\n",
    "    pca_data[var]['mean_vector'] = pca_obj.mean_"
   ]
  },
  {
   "cell_type": "markdown",
   "id": "73eca17b-ca90-4f93-9248-b4383e6fcc0f",
   "metadata": {},
   "source": [
    "### Get LST kl_dicts for all lakes averaged across time"
   ]
  },
  {
   "cell_type": "code",
   "execution_count": 18,
   "id": "217742e1-230e-4d09-8a4b-01cafd7aca44",
   "metadata": {},
   "outputs": [],
   "source": [
    "kl_dict = {}\n",
    "var = 'LST'\n",
    "\n",
    "# use WRF mask to make kl_dict for lake and land..\n",
    "kl_dict[var] = {}\n",
    "kl_dict[var][' '] = {'eigenmodes': pca_data[var]['eigenmodes'].mean(axis=1).reshape(-1,1),\n",
    "           'eigenvalues': pca_data[var]['eigenvalues'],\n",
    "           'mean_vector': pca_data[var]['mean_vector'].mean(),    \n",
    "          }"
   ]
  },
  {
   "cell_type": "markdown",
   "id": "e51f1f5c-09ee-4717-94a4-5969f8681613",
   "metadata": {},
   "source": [
    "### Get LST kl_dicts for all lakes and land averaged across time"
   ]
  },
  {
   "cell_type": "code",
   "execution_count": 19,
   "id": "6be5694b-dd48-48dc-9fcb-3aff3d204815",
   "metadata": {},
   "outputs": [],
   "source": [
    "var = 'T2m'\n",
    "\n",
    "# reshape the mean vector and eigenmodes so we can manipulate by dimension\n",
    "mean_vector_reshape = pca_data[var]['mean_vector'].reshape(ntime2[var],-1)\n",
    "eigenmodes_reshape = pca_data[var]['eigenmodes'].reshape(pca_data[var]['neig'],ntime2[var],-1)\n",
    "\n",
    "# use WRF mask to make kl_dict for lake and land..\n",
    "kl_dict[var] = {}\n",
    "kl_dict[var]['lake'] = {'eigenmodes': eigenmodes_reshape[:,:,all_lakes].mean(axis=2).mean(axis=1).reshape(-1,1),\n",
    "           'eigenvalues': pca_data[var]['eigenvalues'],\n",
    "           'mean_vector': mean_vector_reshape[:,all_lakes].mean(), \n",
    "          }\n",
    "kl_dict[var]['land'] = {'eigenmodes': eigenmodes_reshape[:,:,land].mean(axis=2).mean(axis=1).reshape(-1,1),\n",
    "           'eigenvalues': pca_data[var]['eigenvalues'],\n",
    "           'mean_vector': mean_vector_reshape[:,land].mean(), \n",
    "                       }"
   ]
  },
  {
   "cell_type": "markdown",
   "id": "11a4deec-689a-470c-847c-2b4c2b5ca9be",
   "metadata": {},
   "source": [
    "## Global Sensitivity Analysis"
   ]
  },
  {
   "cell_type": "markdown",
   "id": "f2eeaa3f-9d31-4078-963a-a6a2ee0b710b",
   "metadata": {},
   "source": [
    "### GSA for LST and T2m"
   ]
  },
  {
   "cell_type": "code",
   "execution_count": 20,
   "id": "338941c4-d8d0-4a33-bd1d-097c87ba0eb1",
   "metadata": {},
   "outputs": [
    {
     "name": "stderr",
     "output_type": "stream",
     "text": [
      "poly shape: (9,)\n",
      "parameter common shape: (220000,)\n",
      "output shape: (9, 220000)\n"
     ]
    },
    {
     "name": "stdout",
     "output_type": "stream",
     "text": [
      "LST\n",
      " \n",
      "Initializing SOBOL\n",
      "Sampling SOBOL\n"
     ]
    },
    {
     "name": "stderr",
     "output_type": "stream",
     "text": [
      "poly shape: (9,)\n",
      "parameter common shape: (220000,)\n",
      "output shape: (9, 220000)\n"
     ]
    },
    {
     "name": "stdout",
     "output_type": "stream",
     "text": [
      "Initializing SOBOL\n",
      "Sampling SOBOL\n"
     ]
    },
    {
     "name": "stderr",
     "output_type": "stream",
     "text": [
      "poly shape: (9,)\n",
      "parameter common shape: (220000,)\n",
      "output shape: (9, 220000)\n"
     ]
    },
    {
     "name": "stdout",
     "output_type": "stream",
     "text": [
      "Initializing SOBOL\n",
      "Sampling SOBOL\n"
     ]
    },
    {
     "name": "stderr",
     "output_type": "stream",
     "text": [
      "poly shape: (9,)\n",
      "parameter common shape: (220000,)\n",
      "output shape: (9, 220000)\n"
     ]
    },
    {
     "name": "stdout",
     "output_type": "stream",
     "text": [
      "Initializing SOBOL\n",
      "Sampling SOBOL\n"
     ]
    },
    {
     "name": "stderr",
     "output_type": "stream",
     "text": [
      "poly shape: (9,)\n",
      "parameter common shape: (220000,)\n",
      "output shape: (9, 220000)\n"
     ]
    },
    {
     "name": "stdout",
     "output_type": "stream",
     "text": [
      "Initializing SOBOL\n",
      "Sampling SOBOL\n"
     ]
    },
    {
     "name": "stderr",
     "output_type": "stream",
     "text": [
      "poly shape: (9,)\n",
      "parameter common shape: (220000,)\n",
      "output shape: (9, 220000)\n"
     ]
    },
    {
     "name": "stdout",
     "output_type": "stream",
     "text": [
      "Initializing SOBOL\n",
      "Sampling SOBOL\n"
     ]
    },
    {
     "name": "stderr",
     "output_type": "stream",
     "text": [
      "poly shape: (9,)\n",
      "parameter common shape: (220000,)\n",
      "output shape: (9, 220000)\n"
     ]
    },
    {
     "name": "stdout",
     "output_type": "stream",
     "text": [
      "Initializing SOBOL\n",
      "Sampling SOBOL\n"
     ]
    },
    {
     "name": "stderr",
     "output_type": "stream",
     "text": [
      "poly shape: (9,)\n",
      "parameter common shape: (220000,)\n",
      "output shape: (9, 220000)\n"
     ]
    },
    {
     "name": "stdout",
     "output_type": "stream",
     "text": [
      "Initializing SOBOL\n",
      "Sampling SOBOL\n"
     ]
    },
    {
     "name": "stderr",
     "output_type": "stream",
     "text": [
      "poly shape: (9,)\n",
      "parameter common shape: (220000,)\n",
      "output shape: (9, 220000)\n"
     ]
    },
    {
     "name": "stdout",
     "output_type": "stream",
     "text": [
      "Initializing SOBOL\n",
      "Sampling SOBOL\n",
      "Initializing SOBOL\n",
      "Sampling SOBOL\n",
      "Initializing SOBOL\n",
      "Sampling SOBOL\n",
      "Initializing SOBOL\n",
      "Sampling SOBOL\n",
      "Initializing SOBOL\n",
      "Sampling SOBOL\n",
      "Initializing SOBOL\n",
      "Sampling SOBOL\n",
      "Initializing SOBOL\n",
      "Sampling SOBOL\n",
      "Initializing SOBOL\n",
      "Sampling SOBOL\n",
      "Initializing SOBOL\n",
      "Sampling SOBOL\n",
      "Initializing SOBOL\n",
      "Sampling SOBOL\n"
     ]
    },
    {
     "name": "stderr",
     "output_type": "stream",
     "text": [
      "poly shape: (9,)\n",
      "parameter common shape: (220000,)\n",
      "output shape: (9, 220000)\n"
     ]
    },
    {
     "name": "stdout",
     "output_type": "stream",
     "text": [
      "T2m\n",
      "lake\n",
      "Initializing SOBOL\n",
      "Sampling SOBOL\n"
     ]
    },
    {
     "name": "stderr",
     "output_type": "stream",
     "text": [
      "poly shape: (9,)\n",
      "parameter common shape: (220000,)\n",
      "output shape: (9, 220000)\n"
     ]
    },
    {
     "name": "stdout",
     "output_type": "stream",
     "text": [
      "Initializing SOBOL\n",
      "Sampling SOBOL\n"
     ]
    },
    {
     "name": "stderr",
     "output_type": "stream",
     "text": [
      "poly shape: (9,)\n",
      "parameter common shape: (220000,)\n",
      "output shape: (9, 220000)\n"
     ]
    },
    {
     "name": "stdout",
     "output_type": "stream",
     "text": [
      "Initializing SOBOL\n",
      "Sampling SOBOL\n"
     ]
    },
    {
     "name": "stderr",
     "output_type": "stream",
     "text": [
      "poly shape: (9,)\n",
      "parameter common shape: (220000,)\n",
      "output shape: (9, 220000)\n"
     ]
    },
    {
     "name": "stdout",
     "output_type": "stream",
     "text": [
      "Initializing SOBOL\n",
      "Sampling SOBOL\n"
     ]
    },
    {
     "name": "stderr",
     "output_type": "stream",
     "text": [
      "poly shape: (9,)\n",
      "parameter common shape: (220000,)\n",
      "output shape: (9, 220000)\n"
     ]
    },
    {
     "name": "stdout",
     "output_type": "stream",
     "text": [
      "Initializing SOBOL\n",
      "Sampling SOBOL\n"
     ]
    },
    {
     "name": "stderr",
     "output_type": "stream",
     "text": [
      "poly shape: (9,)\n",
      "parameter common shape: (220000,)\n",
      "output shape: (9, 220000)\n"
     ]
    },
    {
     "name": "stdout",
     "output_type": "stream",
     "text": [
      "Initializing SOBOL\n",
      "Sampling SOBOL\n"
     ]
    },
    {
     "name": "stderr",
     "output_type": "stream",
     "text": [
      "poly shape: (9,)\n",
      "parameter common shape: (220000,)\n",
      "output shape: (9, 220000)\n"
     ]
    },
    {
     "name": "stdout",
     "output_type": "stream",
     "text": [
      "Initializing SOBOL\n",
      "Sampling SOBOL\n"
     ]
    },
    {
     "name": "stderr",
     "output_type": "stream",
     "text": [
      "poly shape: (9,)\n",
      "parameter common shape: (220000,)\n",
      "output shape: (9, 220000)\n"
     ]
    },
    {
     "name": "stdout",
     "output_type": "stream",
     "text": [
      "Initializing SOBOL\n",
      "Sampling SOBOL\n"
     ]
    },
    {
     "name": "stderr",
     "output_type": "stream",
     "text": [
      "poly shape: (9,)\n",
      "parameter common shape: (220000,)\n",
      "output shape: (9, 220000)\n"
     ]
    },
    {
     "name": "stdout",
     "output_type": "stream",
     "text": [
      "Initializing SOBOL\n",
      "Sampling SOBOL\n",
      "Initializing SOBOL\n",
      "Sampling SOBOL\n",
      "Initializing SOBOL\n",
      "Sampling SOBOL\n",
      "Initializing SOBOL\n",
      "Sampling SOBOL\n",
      "Initializing SOBOL\n",
      "Sampling SOBOL\n",
      "Initializing SOBOL\n",
      "Sampling SOBOL\n",
      "Initializing SOBOL\n",
      "Sampling SOBOL\n",
      "Initializing SOBOL\n",
      "Sampling SOBOL\n",
      "Initializing SOBOL\n",
      "Sampling SOBOL\n",
      "Initializing SOBOL\n",
      "Sampling SOBOL\n"
     ]
    },
    {
     "name": "stderr",
     "output_type": "stream",
     "text": [
      "poly shape: (9,)\n",
      "parameter common shape: (220000,)\n",
      "output shape: (9, 220000)\n"
     ]
    },
    {
     "name": "stdout",
     "output_type": "stream",
     "text": [
      "land\n",
      "Initializing SOBOL\n",
      "Sampling SOBOL\n"
     ]
    },
    {
     "name": "stderr",
     "output_type": "stream",
     "text": [
      "poly shape: (9,)\n",
      "parameter common shape: (220000,)\n",
      "output shape: (9, 220000)\n"
     ]
    },
    {
     "name": "stdout",
     "output_type": "stream",
     "text": [
      "Initializing SOBOL\n",
      "Sampling SOBOL\n"
     ]
    },
    {
     "name": "stderr",
     "output_type": "stream",
     "text": [
      "poly shape: (9,)\n",
      "parameter common shape: (220000,)\n",
      "output shape: (9, 220000)\n"
     ]
    },
    {
     "name": "stdout",
     "output_type": "stream",
     "text": [
      "Initializing SOBOL\n",
      "Sampling SOBOL\n"
     ]
    },
    {
     "name": "stderr",
     "output_type": "stream",
     "text": [
      "poly shape: (9,)\n",
      "parameter common shape: (220000,)\n",
      "output shape: (9, 220000)\n"
     ]
    },
    {
     "name": "stdout",
     "output_type": "stream",
     "text": [
      "Initializing SOBOL\n",
      "Sampling SOBOL\n"
     ]
    },
    {
     "name": "stderr",
     "output_type": "stream",
     "text": [
      "poly shape: (9,)\n",
      "parameter common shape: (220000,)\n",
      "output shape: (9, 220000)\n"
     ]
    },
    {
     "name": "stdout",
     "output_type": "stream",
     "text": [
      "Initializing SOBOL\n",
      "Sampling SOBOL\n"
     ]
    },
    {
     "name": "stderr",
     "output_type": "stream",
     "text": [
      "poly shape: (9,)\n",
      "parameter common shape: (220000,)\n",
      "output shape: (9, 220000)\n"
     ]
    },
    {
     "name": "stdout",
     "output_type": "stream",
     "text": [
      "Initializing SOBOL\n",
      "Sampling SOBOL\n"
     ]
    },
    {
     "name": "stderr",
     "output_type": "stream",
     "text": [
      "poly shape: (9,)\n",
      "parameter common shape: (220000,)\n",
      "output shape: (9, 220000)\n"
     ]
    },
    {
     "name": "stdout",
     "output_type": "stream",
     "text": [
      "Initializing SOBOL\n",
      "Sampling SOBOL\n"
     ]
    },
    {
     "name": "stderr",
     "output_type": "stream",
     "text": [
      "poly shape: (9,)\n",
      "parameter common shape: (220000,)\n",
      "output shape: (9, 220000)\n"
     ]
    },
    {
     "name": "stdout",
     "output_type": "stream",
     "text": [
      "Initializing SOBOL\n",
      "Sampling SOBOL\n"
     ]
    },
    {
     "name": "stderr",
     "output_type": "stream",
     "text": [
      "poly shape: (9,)\n",
      "parameter common shape: (220000,)\n",
      "output shape: (9, 220000)\n"
     ]
    },
    {
     "name": "stdout",
     "output_type": "stream",
     "text": [
      "Initializing SOBOL\n",
      "Sampling SOBOL\n",
      "Initializing SOBOL\n",
      "Sampling SOBOL\n",
      "Initializing SOBOL\n",
      "Sampling SOBOL\n",
      "Initializing SOBOL\n",
      "Sampling SOBOL\n",
      "Initializing SOBOL\n",
      "Sampling SOBOL\n",
      "Initializing SOBOL\n",
      "Sampling SOBOL\n",
      "Initializing SOBOL\n",
      "Sampling SOBOL\n",
      "Initializing SOBOL\n",
      "Sampling SOBOL\n",
      "Initializing SOBOL\n",
      "Sampling SOBOL\n",
      "Initializing SOBOL\n",
      "Sampling SOBOL\n"
     ]
    }
   ],
   "source": [
    "# get all sensitivities\n",
    "SENSD = {}\n",
    "for var in ['LST','T2m']: # loop over variables \n",
    "    print(var)\n",
    "    for loc in kl_dict[var]:\n",
    "        print(loc)\n",
    "        sens_info = {}\n",
    "        for sur_type in ['PC','NN']: # loop over surrogate types\n",
    "            tvs = {} \n",
    "            for ss, sur in enumerate(kl_surrogate[var][sur_type]):\n",
    "                sens_sobol, srange = compute_sensitivities(sur, x_vals['train'], sample_size=10000, kl_dict=kl_dict[var][loc])\n",
    "                if ss == 0:\n",
    "                    gsa_range = srange\n",
    "                else:\n",
    "                    gsa_range = append(gsa_range,srange,axis=0)\n",
    "\n",
    "                for sens_label in ['main','total','jointt']:\n",
    "                    #portion_of_eigen_explain = sens_eig_sobol[sens_label] #/sens_eig_sobol[sens_label].sum(axis=1).reshape(-1,1)\n",
    "                    #portion_of_eigen_explain[isnan(portion_of_eigen_explain)] = 0\n",
    "                    #total_var_sens_temp = portion_of_eigen_explain.flatten()\n",
    "                    #total_var_sens_temp = (portion_of_eigen_explain * pca_data[var]['eigenratio'].reshape(-1,1)).sum(axis=0)/pca_data[var]['eigenratio'].sum()\n",
    "                    if ss == 0:\n",
    "                        tvs[sens_label] = sens_sobol[sens_label] #total_var_sens_temp[None,:]\n",
    "                    else:\n",
    "                        tvs[sens_label] = append(tvs[sens_label],sens_sobol[sens_label],axis=0) #total_var_sens_temp[None,:],axis=0)\n",
    "\n",
    "                sens_info[sur_type] = {'gsa_range': gsa_range, 'tvs': tvs}\n",
    "                \n",
    "        SENSD[var + ' ' + loc] = sens_info "
   ]
  },
  {
   "cell_type": "raw",
   "id": "fcd1b5fc",
   "metadata": {},
   "source": [
    "# Plot eigenmode sensitivities for PC\n",
    "case_labels = [rf'$\\xi_{str(j+1)}$ [ {eigenratio[j]:.3f} ]' for j in range(neig)]\n",
    "#case_labels.append(r'$\\xi_{ALL}$')\n",
    "plot_sens(#append(sens_eig_sobol['main'],total_var_sens['main'].reshape(1,-1),axis=0)\n",
    "          sens_eig_sobol['main'],\n",
    "          range(len(variables)),range(neig),\n",
    "          vis=\"bar\",reverse=False,\n",
    "          par_labels=pnames,\n",
    "          case_labels=case_labels,\n",
    "          colors=[],ncol=5,grid_show=False,\n",
    "          xlbl='eigen-features',ylbl='main sensitivity',legend_show=0, legend_size=20, maxlegendcol=1,\n",
    "          xdatatick=[],showplot=True, topsens=[], lbl_size=20, yoffset=0.01, senssort=False,\n",
    "          title='main eigenmode sensitivities', xticklabel_size=20, xticklabel_rotation=0) \n",
    "\n",
    "plot_sens(#append(sens_eig_sobol['total'],total_var_sens['total'].reshape(1,-1),axis=0),\n",
    "          sens_eig_sobol['total'],\n",
    "          range(len(variables)),range(neig),\n",
    "          vis=\"bar\",reverse=False,\n",
    "          par_labels=pnames,\n",
    "          case_labels=case_labels,\n",
    "          colors=[],ncol=5,grid_show=False,\n",
    "          xlbl='eigen-features',ylbl='total sensitivity',legend_show=2,legend_size=20,maxlegendcol=1,\n",
    "          xdatatick=[],showplot=True, topsens=[], lbl_size=20, yoffset=0.01, senssort=False,\n",
    "          title='total eigenmode sensitivities', xticklabel_size=20, xticklabel_rotation=0) \n",
    "\n",
    "# Plot overall sensitivities by param\n",
    "#case_labels = ['main', 'joint']\n",
    "#pname_short = [str(var)[28:-2] for var in variables]\n",
    "#plot_sens(append(total_var_sens['main'].reshape(1,-1),\n",
    "#                 (total_var_sens['total']-total_var_sens['main']).reshape(1,-1),\n",
    "#                 axis=0\n",
    "#                ),\n",
    "#          range(len(variables)),[0,1],vis=\"bar\",reverse=True,\n",
    "#          par_labels=pname_short,\n",
    "#          case_labels=case_labels,\n",
    "#          colors=[],ncol=5,grid_show=False,\n",
    "#          xlbl='parameterizations/parameters',ylbl='sensitivity',ylim_max=0.5,\n",
    "#          legend_show=1,legend_size=25,maxlegendcol=1,\n",
    "#          xdatatick=[],showplot=True, topsens=[], lbl_size=30, yoffset=0.01, senssort=False,\n",
    "#          title='overall eigenmode sensitivities', xticklabel_size=20, xticklabel_rotation=50) "
   ]
  },
  {
   "cell_type": "raw",
   "id": "9d7bf47b",
   "metadata": {},
   "source": [
    "# Plot eigenmode sensitivities for NN\n",
    "case_labels = [rf'$\\xi_{str(j+1)}$ [ {eigenratio[j]:.3f} ]' for j in range(neig)]\n",
    "#case_labels.append(r'$\\xi_{ALL}$')\n",
    "plot_sens(#append(sens_eig_sobol['main'],total_var_sens['main'].reshape(1,-1),axis=0)\n",
    "          sens_eig_sobol['main'],\n",
    "          range(len(variables)),range(neig),\n",
    "          vis=\"bar\",reverse=False,\n",
    "          par_labels=pnames,\n",
    "          case_labels=case_labels,\n",
    "          colors=[],ncol=5,grid_show=False,\n",
    "          xlbl='eigen-features',ylbl='main sensitivity',legend_show=0, legend_size=20, maxlegendcol=1,\n",
    "          xdatatick=[],showplot=True, topsens=[], lbl_size=20, yoffset=0.01, senssort=False,\n",
    "          title='main eigenmode sensitivities', xticklabel_size=20, xticklabel_rotation=0) \n",
    "\n",
    "plot_sens(#append(sens_eig_sobol['total'],total_var_sens['total'].reshape(1,-1),axis=0),\n",
    "          sens_eig_sobol['total'],\n",
    "          range(len(variables)),range(neig),\n",
    "          vis=\"bar\",reverse=False,\n",
    "          par_labels=pnames,\n",
    "          case_labels=case_labels,\n",
    "          colors=[],ncol=5,grid_show=False,\n",
    "          xlbl='eigen-features',ylbl='total sensitivity',legend_show=2,legend_size=20,maxlegendcol=1,\n",
    "          xdatatick=[],showplot=True, topsens=[], lbl_size=20, yoffset=0.01, senssort=False,\n",
    "          title='total eigenmode sensitivities', xticklabel_size=20, xticklabel_rotation=0) \n",
    "\n",
    "# Plot overall sensitivities by param\n",
    "#case_labels = ['main', 'joint']\n",
    "#pname_short = [str(var)[28:-2] for var in variables]\n",
    "#plot_sens(append(total_var_sens['main'].reshape(1,-1),\n",
    "#                 (total_var_sens['total']-total_var_sens['main']).reshape(1,-1),\n",
    "#                 axis=0\n",
    "#                ),\n",
    "#          range(len(variables)),[0,1],vis=\"bar\",reverse=True,\n",
    "#          par_labels=pname_short,\n",
    "#          case_labels=case_labels,\n",
    "#          colors=[],ncol=5,grid_show=False,\n",
    "#          xlbl='parameterizations/parameters',ylbl='sensitivity',ylim_max=0.5,\n",
    "#          legend_show=1,legend_size=25,maxlegendcol=1,\n",
    "#          xdatatick=[],showplot=True, topsens=[], lbl_size=30, yoffset=0.01, senssort=False,\n",
    "#          title='overall eigenmode sensitivities', xticklabel_size=20, xticklabel_rotation=50) "
   ]
  },
  {
   "cell_type": "markdown",
   "id": "2cb60e23-b17c-4712-a5b9-3c797f55ee44",
   "metadata": {},
   "source": [
    "### Plotting the sensitivities"
   ]
  },
  {
   "cell_type": "code",
   "execution_count": 21,
   "id": "4e072915",
   "metadata": {},
   "outputs": [
    {
     "data": {
      "image/png": "[encoded data removed]",
      "text/plain": [
       "<Figure size 1368x360 with 3 Axes>"
      ]
     },
     "metadata": {
      "needs_background": "light"
     },
     "output_type": "display_data"
    }
   ],
   "source": [
    "# Plot overall sensitivities by param as bar plot\n",
    "\n",
    "# note: make different surrogate models (e.g., different CV and regression for PC \n",
    "# and different seed for NN and add error bars to plots)\n",
    "\n",
    "pname_paper = ['PBL+SFC', 'MP', 'LW+SW Rad', 'z0$_w$', 'LSM', \n",
    "               'VM', 'WS', 'Pr$_t$', '$R$']\n",
    "case_labels = ['main', 'joint']\n",
    "cases_hatch = [None,'//']\n",
    "cases_color = ['#1f77b4', '#ff7f0e']\n",
    "fig, axs = plt.subplots(1, 3,sharey=True,sharex=True,figsize=(19,5))\n",
    "ind=arange(1, len(variables)+1)\n",
    "width = 0.3\n",
    "cases = [0,1]\n",
    "for kk, key in enumerate(SENSD):\n",
    "    for st,surrogate_type in enumerate(['PC','NN']):\n",
    "        tvs = SENSD[key][surrogate_type]['tvs']\n",
    "        total_var_sens_main = tvs['main'].mean(axis=0).reshape(1,-1)\n",
    "        total_var_sens_total = tvs['total'].mean(axis=0).reshape(1,-1)\n",
    "        sensdata = append(total_var_sens_main,\n",
    "                         fmax(0,total_var_sens_total-total_var_sens_main),\n",
    "                         axis=0).transpose()\n",
    "        errordata = append((total_var_sens_total \n",
    "                            - tvs['total'].min(axis=0).reshape(1,-1)),\n",
    "                           (tvs['total'].max(axis=0).reshape(1,-1)\n",
    "                            - total_var_sens_total),axis=0)\n",
    "        #errordata = append((total_var_sens_main\n",
    "        #                    - total_var_sens[surrogate_type]['main'].min(axis=0).reshape(1,-1)),\n",
    "        #                   (total_var_sens[surrogate_type]['main'].max(axis=0).reshape(1,-1)\n",
    "        #                    - total_var_sens_main),axis=0)\n",
    "        curr = zeros(len(variables))\n",
    "        for i in cases:\n",
    "            axs[kk].bar(ind+1.25*(st-0.5)*width,\n",
    "                    sensdata[:, i],\n",
    "                    width=width,\n",
    "                    color=cases_color[st],\n",
    "                    edgecolor='black',\n",
    "                    hatch=cases_hatch[i],\n",
    "                    bottom=curr,\n",
    "                    label=surrogate_type + ' ' + case_labels[i],\n",
    "            )\n",
    "            curr += sensdata[:, i]\n",
    "        axs[kk].errorbar(ind+1.25*(st-0.5)*width,\n",
    "                     curr,\n",
    "                     yerr=errordata,\n",
    "                     fmt=' ',\n",
    "                     capsize=4,\n",
    "                     ecolor='k',\n",
    "        )\n",
    "    axs[kk].plot([5.5,5.5],[0,1],'k--')\n",
    "    axs[kk].text(2.5,0.58,'WRF',fontweight='extra bold')\n",
    "    axs[kk].text(7,0.58,'FVCOM',fontweight='extra bold')\n",
    "    axs[kk].set_xticks(ind, pname_paper, rotation=70)\n",
    "    #plt.grid()\n",
    "    axs[kk].set_ylim([0,1])\n",
    "    if kk == 0:\n",
    "        axs[kk].set_ylabel('Combined Sobol sensitivity index')\n",
    "    axs[kk].set_xlabel('parameterizations/parameters')\n",
    "    axs[kk].set_title(f'{key}')\n",
    "    if kk == 1:\n",
    "        axs[kk].legend()\n",
    "    axs[kk].yaxis.grid(linestyle='--')\n",
    "\n",
    "plt.subplots_adjust(wspace=0.075, hspace=0)\n",
    "\n",
    "plt.savefig('../figures/overall_sensitivities',dpi=600,bbox_inches='tight')\n",
    "plt.show()   "
   ]
  },
  {
   "cell_type": "code",
   "execution_count": 33,
   "id": "d9efbae3-c90a-45c7-9000-a0db18838564",
   "metadata": {},
   "outputs": [
    {
     "name": "stdout",
     "output_type": "stream",
     "text": [
      "[0.4219041919593486, 0.16041729558552226, 0.11069364967087804, 0.0710073477225616, 0.3267883234498753, 0.47914815409080197]\n",
      "1.5699589624789876\n",
      "1.2936363624190306\n",
      "[0.5121085973215211, 0.19241945873471103, 0.1844562732474213, 0.082613180224067, 0.18628480522442958, 0.4812561018012925]\n",
      "1.6391384165534424\n",
      "1.2884042528952728\n",
      "[0.468266279512688, 0.1688366841521823, 0.3850386512229891, 0.062243558326898, 0.04457293346412198, 0.32310692039832917]\n",
      "1.4520650270772086\n",
      "1.2114999399171709\n"
     ]
    },
    {
     "data": {
      "image/png": "[encoded data removed]",
      "text/plain": [
       "<Figure size 864x576 with 6 Axes>"
      ]
     },
     "metadata": {},
     "output_type": "display_data"
    }
   ],
   "source": [
    "# Plot overall sensitivities for NN model by variable showing interactions\n",
    "\n",
    "tnames = ['atm','atm-land','land','land-lake','lake','lake-atm']\n",
    "pname_paper = ['PBL+SFC', 'MP', 'LW+SW Rad', 'z0$_w$', 'LSM', \n",
    "               'VM', 'WS', 'Pr$_t$', '$R$']\n",
    "pinds = [0,2,4,6] # selecting top 4 params for interaction diagram\n",
    "cases_color = ['salmon', '#ff7f0e', 'green', '#1f77b4']\n",
    "piecolors = ['#ff7f0e', '#9ACD32', 'green', 'c', '#1f77b4', 'brown']\n",
    "\n",
    "fig, axs = plt.subplots(2, 3,sharey=True,sharex=True,figsize=(12,8),facecolor='white')\n",
    "ind=arange(1, len(variables)+1)\n",
    "iis = [0,0,1,1,0]\n",
    "jjs = [0,1,1,0,0]\n",
    "off = 0.5\n",
    "for kk, key in enumerate(SENSD):\n",
    "    surrogate_type = 'NN'\n",
    "    tvs = SENSD[key][surrogate_type]['tvs']['total'].mean(axis=0)\n",
    "    jvs = SENSD[key][surrogate_type]['tvs']['jointt'].mean(axis=0)\n",
    "    mvs = SENSD[key][surrogate_type]['tvs']['main'].mean(axis=0)\n",
    "    \n",
    "    # plot summary pie chart\n",
    "    sizes = [mvs[0:4].sum(),jvs[0:4,4].sum(),\n",
    "             mvs[4], jvs[4,5::].sum(),\n",
    "             mvs[5::].sum(), jvs[0:4,5::].sum()]\n",
    "    print(sizes)\n",
    "    print(array(sizes).sum())\n",
    "    print(array([tvs[0:4].sum(),tvs[4],tvs[5::].sum()]).sum())\n",
    "    \n",
    "    piec = axs[0,kk].pie(sizes,\n",
    "                  labels=tnames if kk == 0 else None,     \n",
    "                  colors=piecolors, \n",
    "                  autopct='%1.0f%%',\n",
    "                  radius=1,\n",
    "                  #hatch=[None,'//',None,'//',None,'//'],\n",
    "                  #labeldistance=.25,\n",
    "                  #pctdistance=0.8,\n",
    "                  #rotatelabels = 180,\n",
    "                )\n",
    "    if kk == 2:\n",
    "        piec[-1][-2].set_x(0.12)\n",
    "        piec[-1][-2].set_y(-0.75)\n",
    "    for i in [1,3,5]:\n",
    "        piec[0][i].set_hatch('//')\n",
    "    for autotext in piec[-1]:\n",
    "        autotext.set_color('white')\n",
    "\n",
    "    axs[0,kk].set_aspect('equal')\n",
    "    axs[0,kk].set_title(f'{key}',pad=None)  \n",
    "    \n",
    "    # plot interaction diagram\n",
    "    for pp,pind in enumerate(pinds):\n",
    "        tvss = tvs[pind]\n",
    "        jvss = jvs[pind,pinds]\n",
    "        # plot the interaction lines by width\n",
    "        for ppp in range(pp+1,len(pinds)):\n",
    "            axs[1,kk].plot([iis[pp]-off,iis[ppp]-off],[jjs[pp],jjs[ppp]],linewidth=300*jvss[ppp],color='gray')\n",
    "        # plot the total sensitivity size\n",
    "        circle = plt.Circle((iis[pp]-off, jjs[pp]), tvss, color=cases_color[pp], zorder=2)\n",
    "        axs[1,kk].add_patch(circle) \n",
    "        axs[1,kk].text(iis[pp]-off,jjs[pp],pname_paper[pind],horizontalalignment='center',verticalalignment='center')\n",
    "    axs[1,kk].set_xlim([-0.5-off, 1.5-off])\n",
    "    axs[1,kk].set_ylim([-0.5, 1.5])  \n",
    "    \n",
    "    axs[1,kk].set_aspect('equal')\n",
    "    axs[1,kk].axis('off')\n",
    "    \n",
    "plt.subplots_adjust(wspace=0.1, hspace=0.35)\n",
    "\n",
    "plt.savefig('../figures/overall_sensitivities_w_interactions',dpi=600,bbox_inches='tight',facecolor='white')\n",
    "plt.show()   "
   ]
  },
  {
   "cell_type": "code",
   "execution_count": 23,
   "id": "25884f13-4b48-4fc9-bc6d-733b337ca6bb",
   "metadata": {},
   "outputs": [],
   "source": [
    "var = 'T2m'\n",
    "kl_dict[var][' '] = {'eigenmodes': pca_data[var]['eigenmodes'].mean(axis=1).reshape(-1,1),\n",
    "           'eigenvalues': pca_data[var]['eigenvalues'],\n",
    "           'mean_vector': pca_data[var]['mean_vector'].mean(),\n",
    "          }"
   ]
  },
  {
   "cell_type": "code",
   "execution_count": 24,
   "id": "fe9c874c",
   "metadata": {},
   "outputs": [
    {
     "name": "stderr",
     "output_type": "stream",
     "text": [
      "poly shape: (9,)\n",
      "parameter common shape: (18,)\n",
      "output shape: (9, 18)\n",
      "poly shape: (9,)\n",
      "parameter common shape: (18,)\n",
      "output shape: (9, 18)\n",
      "poly shape: (9,)\n",
      "parameter common shape: (18,)\n",
      "output shape: (9, 18)\n",
      "poly shape: (9,)\n",
      "parameter common shape: (18,)\n",
      "output shape: (9, 18)\n",
      "poly shape: (9,)\n",
      "parameter common shape: (18,)\n",
      "output shape: (9, 18)\n",
      "poly shape: (9,)\n",
      "parameter common shape: (18,)\n",
      "output shape: (9, 18)\n",
      "poly shape: (9,)\n",
      "parameter common shape: (18,)\n",
      "output shape: (9, 18)\n",
      "poly shape: (9,)\n",
      "parameter common shape: (18,)\n",
      "output shape: (9, 18)\n",
      "poly shape: (9,)\n",
      "parameter common shape: (18,)\n",
      "output shape: (9, 18)\n",
      "poly shape: (9,)\n",
      "parameter common shape: (5,)\n",
      "output shape: (9, 5)\n"
     ]
    },
    {
     "name": "stdout",
     "output_type": "stream",
     "text": [
      "[16, 20]\n"
     ]
    },
    {
     "name": "stderr",
     "output_type": "stream",
     "text": [
      "poly shape: (9,)\n",
      "parameter common shape: (5,)\n",
      "output shape: (9, 5)\n",
      "poly shape: (9,)\n",
      "parameter common shape: (5,)\n",
      "output shape: (9, 5)\n",
      "poly shape: (9,)\n",
      "parameter common shape: (5,)\n",
      "output shape: (9, 5)\n",
      "poly shape: (9,)\n",
      "parameter common shape: (5,)\n",
      "output shape: (9, 5)\n",
      "poly shape: (9,)\n",
      "parameter common shape: (5,)\n",
      "output shape: (9, 5)\n",
      "poly shape: (9,)\n",
      "parameter common shape: (5,)\n",
      "output shape: (9, 5)\n",
      "poly shape: (9,)\n",
      "parameter common shape: (5,)\n",
      "output shape: (9, 5)\n",
      "poly shape: (9,)\n",
      "parameter common shape: (5,)\n",
      "output shape: (9, 5)\n",
      "poly shape: (9,)\n",
      "parameter common shape: (18,)\n",
      "output shape: (9, 18)\n"
     ]
    },
    {
     "name": "stdout",
     "output_type": "stream",
     "text": [
      "[16, 20]\n"
     ]
    },
    {
     "name": "stderr",
     "output_type": "stream",
     "text": [
      "poly shape: (9,)\n",
      "parameter common shape: (18,)\n",
      "output shape: (9, 18)\n",
      "poly shape: (9,)\n",
      "parameter common shape: (18,)\n",
      "output shape: (9, 18)\n",
      "poly shape: (9,)\n",
      "parameter common shape: (18,)\n",
      "output shape: (9, 18)\n",
      "poly shape: (9,)\n",
      "parameter common shape: (18,)\n",
      "output shape: (9, 18)\n",
      "poly shape: (9,)\n",
      "parameter common shape: (18,)\n",
      "output shape: (9, 18)\n",
      "poly shape: (9,)\n",
      "parameter common shape: (18,)\n",
      "output shape: (9, 18)\n",
      "poly shape: (9,)\n",
      "parameter common shape: (18,)\n",
      "output shape: (9, 18)\n",
      "poly shape: (9,)\n",
      "parameter common shape: (18,)\n",
      "output shape: (9, 18)\n",
      "poly shape: (9,)\n",
      "parameter common shape: (5,)\n",
      "output shape: (9, 5)\n"
     ]
    },
    {
     "name": "stdout",
     "output_type": "stream",
     "text": [
      "[18, 22]\n"
     ]
    },
    {
     "name": "stderr",
     "output_type": "stream",
     "text": [
      "poly shape: (9,)\n",
      "parameter common shape: (5,)\n",
      "output shape: (9, 5)\n",
      "poly shape: (9,)\n",
      "parameter common shape: (5,)\n",
      "output shape: (9, 5)\n",
      "poly shape: (9,)\n",
      "parameter common shape: (5,)\n",
      "output shape: (9, 5)\n",
      "poly shape: (9,)\n",
      "parameter common shape: (5,)\n",
      "output shape: (9, 5)\n",
      "poly shape: (9,)\n",
      "parameter common shape: (5,)\n",
      "output shape: (9, 5)\n",
      "poly shape: (9,)\n",
      "parameter common shape: (5,)\n",
      "output shape: (9, 5)\n",
      "poly shape: (9,)\n",
      "parameter common shape: (5,)\n",
      "output shape: (9, 5)\n",
      "poly shape: (9,)\n",
      "parameter common shape: (5,)\n",
      "output shape: (9, 5)\n"
     ]
    },
    {
     "name": "stdout",
     "output_type": "stream",
     "text": [
      "[18, 22]\n"
     ]
    },
    {
     "data": {
      "image/png": "[encoded data removed]",
      "text/plain": [
       "<Figure size 792x576 with 4 Axes>"
      ]
     },
     "metadata": {
      "needs_background": "light"
     },
     "output_type": "display_data"
    }
   ],
   "source": [
    "# Checking PC and NN accuracy for sqrt(eigenvalue)-weighted combined including the range\n",
    "cases_color = ['#1f77b4', '#ff7f0e']\n",
    "\n",
    "fig, axs = plt.subplots(2, 2,sharey=False,figsize=(11,8))\n",
    "\n",
    "for vv,var in enumerate(['LST','T2m']):\n",
    "    bnds = [16+2*vv,20+2*vv] \n",
    "    for ii, comparison in enumerate(['train','test']):\n",
    "\n",
    "        klxi_model = model_data[var][comparison].mean(axis=1)\n",
    "        # pc\n",
    "        for ss, sur in enumerate(kl_surrogate[var]['PC']):\n",
    "            klxi_pred = surrogate_model_predict(sur,x_vals[comparison], kl_dict=kl_dict[var][' '])\n",
    "            if ss == 0:\n",
    "                klxi_preds0 = klxi_pred\n",
    "            else:\n",
    "                klxi_preds0 = append(klxi_preds0,klxi_pred,axis=1)\n",
    "        # nn\n",
    "        for ss, sur in enumerate(kl_surrogate[var]['NN']):\n",
    "            klxi_pred = surrogate_model_predict(sur,x_vals[comparison].values,kl_dict=kl_dict[var][' '])\n",
    "            if ss == 0:\n",
    "                klxi_preds = klxi_pred\n",
    "            else:\n",
    "                klxi_preds = append(klxi_preds,klxi_pred,axis=1)\n",
    "\n",
    "        model_w =  klxi_model\n",
    "        pred_w = {'NN':  klxi_preds,\n",
    "                  'PC':  klxi_preds0}\n",
    "        #model_w = (sqrt(eigenvalues)*klxi_model).sum(axis=1)/sqrt(eigenvalues).sum()\n",
    "        #pred_w = {'NN':  zeros(klxi_preds[:,:,0].shape),\n",
    "        #          'PC':  zeros(klxi_preds0[:,:,0].shape)}\n",
    "        #for ss,klxi_pred in enumerate(klxi_preds):\n",
    "        #    pred_w['NN'][ss,:] = (sqrt(eigenvalues)*klxi_pred).sum(axis=1)/sqrt(eigenvalues).sum()\n",
    "        #for ss,klxi_pred0 in enumerate(klxi_preds0):\n",
    "        #    pred_w['PC'][ss,:] = (sqrt(eigenvalues)*klxi_pred0).sum(axis=1)/sqrt(eigenvalues).sum()\n",
    "\n",
    "        axs[vv,ii].text(bnds[0]+0.2,bnds[1]-0.5,'$R^2$:')\n",
    "        axs[vv,ii].text(bnds[0]+1.2,bnds[1]-0.5,'RMSE:')\n",
    "        for st,surrogate_type in enumerate(['PC','NN']):\n",
    "            pred_wm = pred_w[surrogate_type].mean(axis=1)\n",
    "            pred_werror = abs(stack((pred_w[surrogate_type].min(axis=1),\n",
    "                                     pred_w[surrogate_type].max(axis=1))) - pred_wm)\n",
    "            axs[vv,ii].errorbar(model_w, pred_wm,\n",
    "                            yerr=pred_werror,\n",
    "                            fmt='o',\n",
    "                            capsize=4,\n",
    "                            label=surrogate_type,\n",
    "                            color=cases_color[st])\n",
    "            u = ((model_w - pred_wm)**2).sum()\n",
    "            v = ((model_w - model_w.mean())**2).sum()\n",
    "            r2 = 1 - u/v\n",
    "            rmse = sqrt(((model_w - pred_wm)**2).mean())\n",
    "            axs[vv,ii].text(bnds[0]+0.2,bnds[1]-0.5-(1+st)*0.35,str(round(r2,3)),color=cases_color[st])\n",
    "            axs[vv,ii].text(bnds[0]+1.2,bnds[1]-0.5-(1+st)*0.35,str(round(rmse,3)),color=cases_color[st])\n",
    "            axs[vv,ii].plot(bnds, bnds, 'k--', lw=2)\n",
    "            \n",
    "\n",
    "        if vv == 1:\n",
    "            axs[vv,ii].set_xlabel(r'WRF-FVCOM, $\\overline{f}(\\lambda)$ [$^\\circ$C]')\n",
    "        if ii == 0:\n",
    "            axs[vv,ii].set_ylabel(r'surrogate, $\\overline{g}(\\lambda)$ [$^\\circ$C]')\n",
    "        else:\n",
    "            axs[vv,ii].set_yticklabels('')\n",
    "\n",
    "        print(bnds)\n",
    "        axs[vv,ii].set_xlim(bnds)\n",
    "        axs[vv,ii].set_ylim(bnds)\n",
    "        axs[vv,ii].set_title(f'{var} - {comparison}')\n",
    "        if ii == 0:\n",
    "            axs[vv,ii].legend(loc='lower right')\n",
    "        axs[vv,ii].grid()\n",
    "    \n",
    "plt.subplots_adjust(wspace=0.1, hspace=0.25)\n",
    "plt.savefig('../figures/surrogate_errors',dpi=600,bbox_inches='tight')\n",
    "plt.show()"
   ]
  },
  {
   "cell_type": "markdown",
   "id": "e7555398-cedf-4d8d-92cf-6217600274c9",
   "metadata": {},
   "source": [
    "### surrogate prediction uncertainty range"
   ]
  },
  {
   "cell_type": "code",
   "execution_count": 25,
   "id": "19c17918-6910-4d62-939f-b2967a15afd6",
   "metadata": {},
   "outputs": [
    {
     "name": "stdout",
     "output_type": "stream",
     "text": [
      "model training set\n",
      "90% range:  [2.0095360097210957, 2.3775494575500495, 1.7440687179565444]\n",
      "PC distribution\n",
      "90% range:  [0.8366059011584248, 1.2737880932238461, 1.038403381555721]\n",
      "NN distribution\n",
      "90% range:  [1.4901578824315038, 1.8704843580373733, 1.4752870487225778]\n"
     ]
    },
    {
     "data": {
      "image/png": "[encoded data removed]",
      "text/plain": [
       "<Figure size 576x360 with 1 Axes>"
      ]
     },
     "metadata": {
      "needs_background": "light"
     },
     "output_type": "display_data"
    }
   ],
   "source": [
    "labels = []\n",
    "def add_label(violin, label):\n",
    "    color = violin[\"bodies\"][0].get_facecolor().flatten()\n",
    "    labels.append((mpatches.Patch(color=color), label))\n",
    "    return color\n",
    "\n",
    "# reshape the mean vector and eigenmodes so we can manipulate by dimension\n",
    "var = 'T2m'\n",
    "model_data_reshape = model_data['T2m']['train'].reshape(nens_train,ntime2[var],-1)\n",
    "    \n",
    "fig = plt.figure(figsize=(8,5))\n",
    "w = 0.25\n",
    "qts = [[0.05, 0.95],[0.05, 0.95],[0.05, 0.95]]\n",
    "for ll,label in enumerate(['model training set','PC distribution','NN distribution']):\n",
    "    print(label)\n",
    "    if ll == 0:\n",
    "        d = [model_data['LST']['train'].mean(axis=1),\n",
    "            model_data_reshape[:,:,all_lakes].mean(axis=2).mean(axis=1),\n",
    "            model_data_reshape[:,:,land].mean(axis=2).mean(axis=1)]\n",
    "    elif ll == 1:\n",
    "        d = [SENSD[k]['PC']['gsa_range'].flatten() for k in SENSD] \n",
    "    elif ll == 2:\n",
    "        d = [SENSD[k]['NN']['gsa_range'].flatten() for k in SENSD]\n",
    "        \n",
    "    dmax = [dd.max() for dd in d]\n",
    "    dmin = [dd.min() for dd in d]\n",
    "    pos = [1+1.05*w*(ll-1),2+1.05*w*(ll-1),3+1.05*w*(ll-1)]\n",
    "    c = add_label(plt.violinplot(d,positions=pos,widths=w,showmedians=True,showextrema=False,quantiles=qts),label=label)\n",
    "    plt.plot(pos,dmax,'+',color=c)\n",
    "    plt.plot(pos,dmin,'+',color=c)\n",
    "    \n",
    "    print(f'90% range:  {[quantile(dd,0.95) - quantile(dd,0.05) for dd in d]}')\n",
    "\n",
    "ypos = [18.5,17.4,16.7]\n",
    "for tt,tx in enumerate(['95%','50%','5%']):\n",
    "    plt.text(2.4,ypos[tt],tx,horizontalalignment='left',verticalalignment='center')\n",
    "\n",
    "plt.xticks([1,2,3],labels=[k for k in SENSD])\n",
    "plt.ylabel(r'$\\overline{f}(\\lambda)$ [$^\\circ$C]')\n",
    "plt.grid(axis='y')\n",
    "plt.legend(*zip(*labels), loc='upper left')\n",
    "plt.savefig('../figures/surrogate_range',dpi=600,bbox_inches='tight')\n",
    "plt.show()"
   ]
  },
  {
   "cell_type": "raw",
   "id": "07b852e6-b803-484d-b171-cfa2e502aa2a",
   "metadata": {},
   "source": [
    "labels = []\n",
    "def add_label(violin, label):\n",
    "    color = violin[\"boxes\"][0].get_facecolor()\n",
    "    labels.append((mpatches.Patch(color=color), label))\n",
    "\n",
    "# reshape the mean vector and eigenmodes so we can manipulate by dimension\n",
    "var = 'T2m'\n",
    "mean_vector_reshape = pca_data[var]['mean_vector'].reshape(ntime2[var],-1)\n",
    "eigenmodes_reshape = pca_data[var]['eigenmodes'].reshape(pca_data[var]['neig'],ntime2[var],-1)\n",
    "model_data_reshape = model_data['T2m']['train'].reshape(nens_train,ntime2[var],-1)\n",
    "    \n",
    "fig = plt.figure(figsize=(8,5))\n",
    "w = 0.25\n",
    "add_label(plt.boxplot([model_data['LST']['train'].mean(axis=1),\n",
    "                        model_data_reshape[:,:,all_lakes].mean(axis=2).mean(axis=1),\n",
    "                        model_data_reshape[:,:,land].mean(axis=2).mean(axis=1)],\n",
    "               positions=[1-1.05*w,2-1.05*w,3-1.05*w],widths=w,patch_artist=True),label='model training set')\n",
    "add_label(plt.boxplot([SENSD['LST - lake']['PC']['gsa_range'].flatten() + pca_data['LST']['mean_vector'].mean(),\n",
    "                        SENSD['T2m - lake']['PC']['gsa_range'].flatten() + mean_vector_reshape[:,all_lakes].mean(),\n",
    "                        SENSD['T2m - land']['PC']['gsa_range'].flatten() + mean_vector_reshape[:,land].mean()],\n",
    "               positions=[1,2,3],widths=w,patch_artist=True),label='PC distribution')\n",
    "add_label(plt.boxplot([SENSD['LST - lake']['NN']['gsa_range'].flatten() + pca_data['LST']['mean_vector'].mean(),\n",
    "                        SENSD['T2m - lake']['NN']['gsa_range'].flatten() + mean_vector_reshape[:,all_lakes].mean(),\n",
    "                        SENSD['T2m - land']['NN']['gsa_range'].flatten() + mean_vector_reshape[:,land].mean()],\n",
    "               positions=[1+1.05*w,2+1.05*w,3+1.05*w],widths=w,patch_artist=True),label='NN distribution')\n",
    "plt.xticks([1,2,3],labels=['LST - lake','T2m - lake','T2m - land'])\n",
    "plt.ylabel(r'$\\overline{f}(\\lambda)$ [$^\\circ$C]')\n",
    "plt.grid(axis='y')\n",
    "plt.legend(*zip(*labels), loc='upper left')\n",
    "plt.show()"
   ]
  }
 ],
 "metadata": {
  "kernelspec": {
   "display_name": "wrf-env",
   "language": "python",
   "name": "wrf-env"
  },
  "language_info": {
   "codemirror_mode": {
    "name": "ipython",
    "version": 3
   },
   "file_extension": ".py",
   "mimetype": "text/x-python",
   "name": "python",
   "nbconvert_exporter": "python",
   "pygments_lexer": "ipython3",
   "version": "3.8.12"
  }
 },
 "nbformat": 4,
 "nbformat_minor": 5
}
