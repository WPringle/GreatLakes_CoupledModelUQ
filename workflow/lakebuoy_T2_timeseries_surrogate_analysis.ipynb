{
 "cells": [
  {
   "cell_type": "markdown",
   "id": "ad64b47c",
   "metadata": {},
   "source": [
    "# Surrogate analysis for the T2 timeseries at the lake buoys"
   ]
  },
  {
   "cell_type": "markdown",
   "id": "80b27396",
   "metadata": {},
   "source": [
    "## Setting up"
   ]
  },
  {
   "cell_type": "markdown",
   "id": "9ac8fab4",
   "metadata": {},
   "source": [
    "### Import packages here"
   ]
  },
  {
   "cell_type": "code",
   "execution_count": 1,
   "id": "c7604174",
   "metadata": {},
   "outputs": [],
   "source": [
    "import pickle\n",
    "from xarray import open_dataset\n",
    "from numpy import sqrt, append, isnan\n",
    "from sklearn.decomposition import PCA\n",
    "\n",
    "import matplotlib.pyplot as plt\n",
    "#import matplotlib.dates as mdates\n",
    "#from matplotlib import colorbar, colors\n",
    "#import cmocean\n",
    "#import cartopy.crs as crs\n",
    "#import cartopy.feature as cfeature\n",
    "#from cartopy.mpl.gridliner import LONGITUDE_FORMATTER, LATITUDE_FORMATTER\n",
    "\n",
    "# some parameters\n",
    "plt.rcParams.update({'font.size': 14})\n",
    "#dpi = 200"
   ]
  },
  {
   "cell_type": "code",
   "execution_count": null,
   "id": "2ecc9514",
   "metadata": {},
   "outputs": [],
   "source": [
    "from wrf_fvcom.variables import (\n",
    "    WRF_PBL_SFCLAY, WRF_WaterZ0, WRF_MP, WRF_RA, WRF_LM,\n",
    "    FVCOM_Prandtl, FVCOM_SWRadiationAbsorption,\n",
    "    FVCOM_VerticalMixing, FVCOM_WindStress,\n",
    ")\n",
    "from wrf_fvcom.perturb import (\n",
    "    transform_perturbation_matrix,\n",
    ")\n",
    "from surrogate.nn_regression import make_nn_surrogate_model\n",
    "from surrogate.pc_regression import make_pc_surrogate_model\n",
    "from surrogate.utils import surrogate_model_predict\n",
    "from surrogate.gsa import compute_sensitivities, plot_sens\n",
    "from calibration.bayesian_optimization import run_bayesian_optimization"
   ]
  },
  {
   "cell_type": "markdown",
   "id": "f5645c93",
   "metadata": {},
   "source": [
    "### Set the variables to analyze and get list of filenames"
   ]
  },
  {
   "cell_type": "code",
   "execution_count": null,
   "id": "e79ab349",
   "metadata": {},
   "outputs": [],
   "source": [
    "# choose variables want to analyze..\n",
    "variables = [WRF_PBL_SFCLAY,\n",
    "             WRF_MP, \n",
    "             WRF_RA,\n",
    "             WRF_WaterZ0,\n",
    "             WRF_LM,\n",
    "             FVCOM_VerticalMixing,\n",
    "             FVCOM_WindStress,\n",
    "             FVCOM_Prandtl,\n",
    "             FVCOM_SWRadiationAbsorption,\n",
    "            ]\n",
    "\n",
    "# get the variable names as a list\n",
    "variable_names = [variable.name for variable in variables]\n",
    "\n",
    "# test set does not have WRF_LM inside\n",
    "variable_names_test = [variable.name for variable in variables if variable is not WRF_LM]\n",
    "no_name_I = [4]\n",
    "test_run_I = [0,2,4,5,8]"
   ]
  },
  {
   "cell_type": "code",
   "execution_count": null,
   "id": "9f522438",
   "metadata": {},
   "outputs": [],
   "source": [
    "#filenames\n",
    "train_parameters_file = '../output/perturbation_matrix_9variables_korobov18.nc'\n",
    "test_parameters_file = '../output/perturbation_matrix_8variables_korobov19.nc'\n",
    "all_output_filename = '../output/wfv_buoy_temperatures_all_processed.pkl'"
   ]
  },
  {
   "cell_type": "markdown",
   "id": "b1f76d13",
   "metadata": {},
   "source": [
    "## Load inputs "
   ]
  },
  {
   "cell_type": "code",
   "execution_count": null,
   "id": "f512cc00",
   "metadata": {},
   "outputs": [],
   "source": [
    "## parameter info\n",
    "\n",
    "# Get parameter training range and ensemble\n",
    "params = open_dataset(train_parameters_file)\n",
    "pnames = params.sel(variable=variable_names).variable.values\n",
    "ptrain = params.sel(variable=variable_names).perturbation_matrix\n",
    "\n",
    "# transform the input matrix\n",
    "variable_matrix_train = transform_perturbation_matrix(ptrain)"
   ]
  },
  {
   "cell_type": "code",
   "execution_count": null,
   "id": "c35806f2",
   "metadata": {},
   "outputs": [],
   "source": [
    "# Get parameter test range and ensemble\n",
    "params_t = open_dataset(test_parameters_file)\n",
    "pnames_t = params_t.sel(variable=variable_names_test).isel(run=test_run_I).variable.values\n",
    "\n",
    "# combining both sets of runs\n",
    "ptest_t = params_t.sel(variable=variable_names_test).isel(run=test_run_I).perturbation_matrix\n",
    "#\n",
    "# transform into same variable number as train set and put value of 1 for Land Model\n",
    "ptest = ptrain.isel(run=test_run_I)\n",
    "ptest[:,[idx for idx, var_name in enumerate(variable_names) if idx not in no_name_I]] = ptest_t.values\n",
    "ptest[:,no_name_I] = 1\n",
    "\n",
    "# transform the input matrix\n",
    "variable_matrix_test_t = transform_perturbation_matrix(ptest)\n",
    "# transform into same scheme number as train set and put value of 0 where doesn't exist\n",
    "variable_matrix_test = variable_matrix_train.isel(run=test_run_I)\n",
    "scheme_names = variable_matrix_test['scheme'].values\n",
    "no_scheme_I = [idx for idx, scheme_name in enumerate(scheme_names)\n",
    "               if scheme_name not in variable_matrix_test_t['scheme'].values]\n",
    "variable_matrix_test[:,[idx for idx, scheme_name in enumerate(scheme_names) if idx not in no_scheme_I]] = \\\n",
    "    variable_matrix_test_t.values\n",
    "variable_matrix_test[:,no_scheme_I] = 0"
   ]
  },
  {
   "cell_type": "code",
   "execution_count": null,
   "id": "92b12046",
   "metadata": {},
   "outputs": [],
   "source": [
    "## data info\n",
    "\n",
    "#load the training data\n",
    "with open(all_output_filename, 'rb') as fp:\n",
    "    set_dict = pickle.load(fp)\n",
    "    print('Done loading from binary file')\n",
    "    \n",
    "train_dict = set_dict['training_set']\n",
    "test_dict = set_dict['test_set']\n",
    "bo_dict = set_dict['bo_set']"
   ]
  },
  {
   "cell_type": "code",
   "execution_count": null,
   "id": "3a319a62",
   "metadata": {},
   "outputs": [],
   "source": [
    "# Get and check train sizes\n",
    "nens = len(train_dict['run_numbers'])\n",
    "ntime = train_dict['model_data_timeseries']['time'].shape[0]\n",
    "nens_, ntime_ = train_dict['model_data_timeseries']['model']['T2'].shape\n",
    "ntime__ = train_dict['model_data_timeseries']['data']['T2'].shape[0]\n",
    "nens__, ndim = variable_matrix_train.shape\n",
    "\n",
    "# sanity check\n",
    "assert(ntime==ntime_)\n",
    "assert(ntime==ntime__)\n",
    "assert(nens==nens_)\n",
    "assert(nens==nens__)\n",
    "\n",
    "# Print useful info\n",
    "print('Training set info:')\n",
    "print(f'Ensembles size : {nens}')\n",
    "print(f'Parameter dim : {ndim}')\n",
    "print(f'Timeseries size : {ntime}')\n",
    "\n",
    "nens_train = nens"
   ]
  },
  {
   "cell_type": "code",
   "execution_count": null,
   "id": "b889ba16",
   "metadata": {},
   "outputs": [],
   "source": [
    "# Get and check test sizes\n",
    "nens = len(test_dict['run_numbers'])\n",
    "ntime = test_dict['model_data_timeseries']['time'].shape[0]\n",
    "nens_, ntime_ = test_dict['model_data_timeseries']['model']['T2'].shape\n",
    "ntime__ = test_dict['model_data_timeseries']['data']['T2'].shape[0]\n",
    "nens__, ndim = variable_matrix_test.shape\n",
    "\n",
    "# sanity check\n",
    "assert(ntime==ntime_)\n",
    "assert(ntime==ntime__)\n",
    "assert(nens==nens_)\n",
    "assert(nens==nens__)\n",
    "\n",
    "# Print useful info\n",
    "print('Test set info:')\n",
    "print(f'Ensembles size : {nens}')\n",
    "print(f'Parameter dim : {ndim}')\n",
    "print(f'Timeseries size : {ntime}')\n",
    "\n",
    "nens_test = nens"
   ]
  },
  {
   "cell_type": "markdown",
   "id": "3c840b15",
   "metadata": {},
   "source": [
    "##  Construct surrogate models"
   ]
  },
  {
   "cell_type": "code",
   "execution_count": null,
   "id": "f532fdd2",
   "metadata": {},
   "outputs": [],
   "source": [
    "# some variables for surrogate\n",
    "var_explained = 0.9 #for PCA\n",
    "\n",
    "# using hot_enconding or not\n",
    "hot_encode = True\n",
    "# setup training and test inputs based on onehotencoding or not\n",
    "if hot_encode:\n",
    "    train_x = variable_matrix_train\n",
    "    test_x = variable_matrix_test\n",
    "else:\n",
    "    train_x = ptrain\n",
    "    test_x = ptest\n",
    "\n",
    "# PC surrogate model parameters\n",
    "polynomial_order = 2\n",
    "regression_type = 'ElasticNet'\n",
    "\n",
    "# NN surrogate model parameters\n",
    "batch_size = int(nens/5)\n",
    "hidden_layers = 1\n",
    "learn_rate = 0.00005\n",
    "nepochs=2000\n",
    "\n",
    "# randomization\n",
    "random_seed = 222\n",
    "\n",
    "# initialize the surrogate dictionary\n",
    "kl_surrogate = dict()"
   ]
  },
  {
   "cell_type": "markdown",
   "id": "6f3040c0",
   "metadata": {},
   "source": [
    "### Decompose the time series"
   ]
  },
  {
   "cell_type": "code",
   "execution_count": null,
   "id": "3d22164c",
   "metadata": {},
   "outputs": [],
   "source": [
    "# Decompose the timeseries using PCA/KL\n",
    "pca_obj = PCA(n_components=var_explained, random_state=random_seed, whiten=True)\n",
    "pca_obj.fit(train_dict['model_data_timeseries']['model']['T2'])"
   ]
  },
  {
   "cell_type": "code",
   "execution_count": null,
   "id": "63ddd56c",
   "metadata": {},
   "outputs": [],
   "source": [
    "# get the outputs from the PCA\n",
    "klxi_train = pca_obj.transform(train_dict['model_data_timeseries']['model']['T2'])\n",
    "klxi_test  = pca_obj.transform(test_dict['model_data_timeseries']['model']['T2'])\n",
    "eigenratio = pca_obj.explained_variance_ratio_\n",
    "neig = pca_obj.n_components_\n",
    "print(f'number of eigenmodes is {neig}')"
   ]
  },
  {
   "cell_type": "markdown",
   "id": "f23594bb",
   "metadata": {},
   "source": [
    "### Train and check the PC model"
   ]
  },
  {
   "cell_type": "code",
   "execution_count": null,
   "id": "c31dd97c",
   "metadata": {
    "scrolled": false
   },
   "outputs": [],
   "source": [
    "# Polynomial Chaos\n",
    "kl_surrogate['PC'] = make_pc_surrogate_model(\n",
    "    train_x, klxi_train, polynomial_order=polynomial_order, regressor=regression_type,\n",
    ")   "
   ]
  },
  {
   "cell_type": "code",
   "execution_count": null,
   "id": "aebfd120",
   "metadata": {},
   "outputs": [],
   "source": [
    "# Checking PC accuracy in KL space\n",
    "rmse_v = 2\n",
    "r2_v = -0.7\n",
    "for ii in [0,1]:\n",
    "    if ii == 0:\n",
    "        comparison = 'training'\n",
    "        klxi_pred = surrogate_model_predict(kl_surrogate['PC'],train_x)\n",
    "        klxi_model = klxi_train\n",
    "    else:\n",
    "        comparison = 'test'\n",
    "        klxi_pred = surrogate_model_predict(kl_surrogate['PC'],test_x)\n",
    "        klxi_model = klxi_test\n",
    "    fig = plt.figure(figsize=(12,8))\n",
    "    plt.text(2.5,rmse_v,'RMSE:')\n",
    "    plt.text(2.5,r2_v,'R$^2$:')\n",
    "    for iout in range(neig):\n",
    "        py = plt.plot(klxi_model[:,iout], klxi_pred[:, iout], 'o',label=f'Mode# {iout+1}')\n",
    "        rmse = sqrt(sum((klxi_pred[:, iout] - klxi_model[:,iout])**2))\n",
    "        u = ((klxi_model[:,iout] - klxi_pred[:, iout])**2).sum()\n",
    "        v = ((klxi_model[:,iout] - klxi_model[:,iout].mean())**2).sum()\n",
    "        r2 = 1 - u/v\n",
    "        plt.text(2.5,rmse_v-(iout+1)*0.3,str(round(rmse,2)),color=py[0].get_color())\n",
    "        plt.text(2.5,r2_v-(iout+1)*0.3,str(round(r2,3)),color=py[0].get_color())\n",
    "    plt.plot([-3,3], [-3,3], 'k--', lw=2)\n",
    "    plt.xlabel('Model xi')\n",
    "    plt.ylabel('Surrogate xi')\n",
    "    plt.title(f'Polynomial Chaos {comparison} accuracy: p={polynomial_order}')\n",
    "    plt.legend(loc='upper left')\n",
    "    plt.grid()\n",
    "    plt.show()"
   ]
  },
  {
   "cell_type": "markdown",
   "id": "75b013e7",
   "metadata": {},
   "source": [
    "### Train and check the NN model"
   ]
  },
  {
   "cell_type": "code",
   "execution_count": null,
   "id": "363dbabd",
   "metadata": {
    "scrolled": false
   },
   "outputs": [],
   "source": [
    "# Neural Network\n",
    "kl_surrogate['NN'] = make_nn_surrogate_model(\n",
    "    train_x.values, klxi_train,\n",
    "    test_X=test_x.values, test_Y=klxi_test,\n",
    "    num_hidden_layers=hidden_layers,\n",
    "    lrate=learn_rate,\n",
    "    batch_size=batch_size,\n",
    "    nepochs=nepochs,\n",
    "    seed=random_seed,\n",
    "    eigenratio=eigenratio,\n",
    ")"
   ]
  },
  {
   "cell_type": "code",
   "execution_count": null,
   "id": "edb0d59a",
   "metadata": {},
   "outputs": [],
   "source": [
    "# Checking NN accuracy in KL space\n",
    "rmse_v = 2\n",
    "r2_v = -0.7\n",
    "for ii in [0,1]:\n",
    "    if ii == 0:\n",
    "        comparison = 'training'\n",
    "        klxi_pred = surrogate_model_predict(kl_surrogate['NN'],train_x.values)\n",
    "        klxi_model = klxi_train\n",
    "    else:\n",
    "        comparison = 'test'\n",
    "        klxi_pred = surrogate_model_predict(kl_surrogate['NN'],test_x.values)\n",
    "        klxi_model = klxi_test\n",
    "    fig = plt.figure(figsize=(12,8))\n",
    "    plt.text(2.5,rmse_v,'RMSE:')\n",
    "    plt.text(2.5,r2_v,'R$^2$:')\n",
    "    for iout in range(neig):\n",
    "        py = plt.plot(klxi_model[:,iout], klxi_pred[:, iout], 'o',label=f'Mode# {iout+1}')\n",
    "        rmse = sqrt(sum((klxi_pred[:, iout] - klxi_model[:,iout])**2))\n",
    "        u = ((klxi_model[:,iout] - klxi_pred[:, iout])**2).sum()\n",
    "        v = ((klxi_model[:,iout] - klxi_model[:,iout].mean())**2).sum()\n",
    "        r2 = 1 - u/v\n",
    "        plt.text(2.5,rmse_v-(iout+1)*0.3,str(round(rmse,2)),color=py[0].get_color())\n",
    "        plt.text(2.5,r2_v-(iout+1)*0.3,str(round(r2,3)),color=py[0].get_color())\n",
    "    plt.plot([-3,3], [-3,3], 'k--', lw=2)\n",
    "    plt.xlabel('Model xi')\n",
    "    plt.ylabel('Surrogate xi')\n",
    "    plt.title(f'Neural Network {comparison} accuracy: hidden layers={hidden_layers}')\n",
    "    plt.legend(loc='upper left')\n",
    "    plt.grid()\n",
    "    plt.show()"
   ]
  },
  {
   "cell_type": "markdown",
   "id": "2f1c83f8",
   "metadata": {},
   "source": [
    "## Global Sensitivity Analysis"
   ]
  },
  {
   "cell_type": "markdown",
   "id": "969ba13d",
   "metadata": {},
   "source": [
    "### GSA on PC model"
   ]
  },
  {
   "cell_type": "code",
   "execution_count": null,
   "id": "72370173",
   "metadata": {},
   "outputs": [],
   "source": [
    "# get the sensitivity for the PC surrogate\n",
    "sens_eig_sobol = compute_sensitivities(kl_surrogate['PC'], train_x, sample_size=10000)\n",
    "\n",
    "total_var_sens = {'main': [], 'total': []}\n",
    "for sens_label in ['main','total']:\n",
    "    print(sens_label)\n",
    "    portion_of_eigen_explain = sens_eig_sobol[sens_label]/sens_eig_sobol[sens_label].sum(axis=1).reshape(-1,1)\n",
    "    portion_of_eigen_explain[isnan(portion_of_eigen_explain)] = 0\n",
    "    total_var_sens[sens_label] = (portion_of_eigen_explain * eigenratio.reshape(-1,1)).sum(axis=0)"
   ]
  },
  {
   "cell_type": "code",
   "execution_count": null,
   "id": "ca9ac5a8",
   "metadata": {
    "scrolled": false
   },
   "outputs": [],
   "source": [
    "# Plot eigenmode sensitivities for PC\n",
    "case_labels = [rf'$\\xi_{str(j+1)}$ [ {eigenratio[j]:.3f} ]' for j in range(neig)]\n",
    "case_labels.append(r'$\\xi_{ALL}$')\n",
    "plot_sens(append(sens_eig_sobol['main'],total_var_sens['main'].reshape(1,-1),axis=0),\n",
    "          range(len(variables)),range(neig+1),vis=\"bar\",reverse=False,\n",
    "          par_labels=pnames,\n",
    "          case_labels=case_labels,\n",
    "          colors=[],ncol=5,grid_show=False,\n",
    "          xlbl='eigen-features',ylbl='main sensitivity',legend_show=2,legend_size=25,maxlegendcol=1,\n",
    "          xdatatick=[],showplot=True, topsens=[], lbl_size=30, yoffset=0.01, senssort=False,\n",
    "          title='main eigenmode sensitivities', xticklabel_size=20, xticklabel_rotation=0) \n",
    "\n",
    "plot_sens(append(sens_eig_sobol['total'],total_var_sens['total'].reshape(1,-1),axis=0),\n",
    "          range(len(variables)),range(neig+1),vis=\"bar\",reverse=False,\n",
    "          par_labels=pnames,\n",
    "          case_labels=case_labels,\n",
    "          colors=[],ncol=5,grid_show=False,\n",
    "          xlbl='eigen-features',ylbl='total sensitivity',legend_show=2,legend_size=25,maxlegendcol=1,\n",
    "          xdatatick=[],showplot=True, topsens=[], lbl_size=30, yoffset=0.01, senssort=False,\n",
    "          title='total eigenmode sensitivities', xticklabel_size=20, xticklabel_rotation=0) \n",
    "\n",
    "# Plot overall sensitivities by param\n",
    "case_labels = [r'$\\xi_{ALL}$']\n",
    "plot_sens(total_var_sens['main'].reshape(1,-1),\n",
    "          range(len(variables)),[0],vis=\"bar\",reverse=True,\n",
    "          par_labels=pnames,\n",
    "          case_labels=case_labels,\n",
    "          colors=[],ncol=5,grid_show=False,\n",
    "          xlbl='eigen-features',ylbl='main sensitivity',legend_show=1,legend_size=25,maxlegendcol=1,\n",
    "          xdatatick=[],showplot=True, topsens=[], lbl_size=30, yoffset=0.01, senssort=False,\n",
    "          title='main eigenmode sensitivities', xticklabel_size=10, xticklabel_rotation=60) \n",
    "\n",
    "plot_sens(total_var_sens['total'].reshape(1,-1),\n",
    "          range(len(variables)),[0],vis=\"bar\",reverse=True,\n",
    "          par_labels=pnames,\n",
    "          case_labels=case_labels,\n",
    "          colors=[],ncol=5,grid_show=False,\n",
    "          xlbl='eigen-features',ylbl='total sensitivity',legend_show=1,legend_size=25,maxlegendcol=1,\n",
    "          xdatatick=[],showplot=True, topsens=[], lbl_size=30, yoffset=0.01, senssort=False,\n",
    "          title='total eigenmode sensitivities', xticklabel_size=10, xticklabel_rotation=60) "
   ]
  },
  {
   "cell_type": "raw",
   "id": "b69bc73a",
   "metadata": {},
   "source": [
    "# Plot eigenmode sensitivities by param\n",
    "case_labels = [rf'$\\xi_{str(j+1)}$ [ {eigenratio[j]:.3f} ]' for j in range(neig)]\n",
    "plot_sens(sens_eig_sobol['main'],\n",
    "          range(len(variables)),range(neig),vis=\"bar\",reverse=True,\n",
    "          par_labels=pnames,\n",
    "          case_labels=case_labels,\n",
    "          colors=[],ncol=5,grid_show=False,\n",
    "          xlbl='eigen-features',ylbl='main sensitivity',legend_show=1,legend_size=25,maxlegendcol=1,\n",
    "          xdatatick=[],showplot=True, topsens=[], lbl_size=30, yoffset=0.01, senssort=False,\n",
    "          title='main eigenmode sensitivities', xticklabel_size=10, xticklabel_rotation=60) \n",
    "\n",
    "plot_sens(sens_eig_sobol['total'],\n",
    "          range(len(variables)),range(neig),vis=\"bar\",reverse=True,\n",
    "          par_labels=pnames,\n",
    "          case_labels=case_labels,\n",
    "          colors=[],ncol=5,grid_show=False,\n",
    "          xlbl='eigen-features',ylbl='total sensitivity',legend_show=1,legend_size=25,maxlegendcol=1,\n",
    "          xdatatick=[],showplot=True, topsens=[], lbl_size=30, yoffset=0.01, senssort=False,\n",
    "          title='total eigenmode sensitivities', xticklabel_size=10, xticklabel_rotation=60) "
   ]
  },
  {
   "cell_type": "markdown",
   "id": "8cb0f230",
   "metadata": {},
   "source": [
    "### GSA on NN model"
   ]
  },
  {
   "cell_type": "code",
   "execution_count": null,
   "id": "a428f39a",
   "metadata": {},
   "outputs": [],
   "source": [
    "# get the sensitivity for the PC surrogate\n",
    "sens_eig_sobol = compute_sensitivities(kl_surrogate['NN'], train_x, sample_size=10000)\n",
    "\n",
    "total_var_sens = {'main': [], 'total': []}\n",
    "for sens_label in ['main','total']:\n",
    "    portion_of_eigen_explain = sens_eig_sobol[sens_label]/sens_eig_sobol[sens_label].sum(axis=1).reshape(-1,1)\n",
    "    portion_of_eigen_explain[isnan(portion_of_eigen_explain)] = 0\n",
    "    total_var_sens[sens_label] = (portion_of_eigen_explain * eigenratio.reshape(-1,1)).sum(axis=0)"
   ]
  },
  {
   "cell_type": "code",
   "execution_count": null,
   "id": "81871a04",
   "metadata": {
    "scrolled": false
   },
   "outputs": [],
   "source": [
    "# Plot eigenmode sensitivities for NN\n",
    "case_labels = [rf'$\\xi_{str(j+1)}$ [ {eigenratio[j]:.3f} ]' for j in range(neig)]\n",
    "case_labels.append(r'$\\xi_{ALL}$')\n",
    "plot_sens(append(sens_eig_sobol['main'],total_var_sens['main'].reshape(1,-1),axis=0),\n",
    "          range(len(variables)),range(neig+1),vis=\"bar\",reverse=False,\n",
    "          par_labels=pnames,\n",
    "          case_labels=case_labels,\n",
    "          colors=[],ncol=5,grid_show=False,\n",
    "          xlbl='eigen-features',ylbl='main sensitivity',legend_show=2,legend_size=25,maxlegendcol=1,\n",
    "          xdatatick=[],showplot=True, topsens=[], lbl_size=30, yoffset=0.01, senssort=False,\n",
    "          title='main eigenmode sensitivities', xticklabel_size=20, xticklabel_rotation=0) \n",
    "\n",
    "plot_sens(append(sens_eig_sobol['total'],total_var_sens['total'].reshape(1,-1),axis=0),\n",
    "          range(len(variables)),range(neig+1),vis=\"bar\",reverse=False,\n",
    "          par_labels=pnames,\n",
    "          case_labels=case_labels,\n",
    "          colors=[],ncol=5,grid_show=False,\n",
    "          xlbl='eigen-features',ylbl='total sensitivity',legend_show=2,legend_size=25,maxlegendcol=1,\n",
    "          xdatatick=[],showplot=True, topsens=[], lbl_size=30, yoffset=0.01, senssort=False,\n",
    "          title='total eigenmode sensitivities', xticklabel_size=20, xticklabel_rotation=0) \n",
    "\n",
    "# Plot overall sensitivities by param\n",
    "case_labels = [r'$\\xi_{ALL}$']\n",
    "plot_sens(total_var_sens['main'].reshape(1,-1),\n",
    "          range(len(variables)),[0],vis=\"bar\",reverse=True,\n",
    "          par_labels=pnames,\n",
    "          case_labels=case_labels,\n",
    "          colors=[],ncol=5,grid_show=False,\n",
    "          xlbl='eigen-features',ylbl='main sensitivity',legend_show=1,legend_size=25,maxlegendcol=1,\n",
    "          xdatatick=[],showplot=True, topsens=[], lbl_size=30, yoffset=0.01, senssort=False,\n",
    "          title='main eigenmode sensitivities', xticklabel_size=10, xticklabel_rotation=60) \n",
    "\n",
    "plot_sens(total_var_sens['total'].reshape(1,-1),\n",
    "          range(len(variables)),[0],vis=\"bar\",reverse=True,\n",
    "          par_labels=pnames,\n",
    "          case_labels=case_labels,\n",
    "          colors=[],ncol=5,grid_show=False,\n",
    "          xlbl='eigen-features',ylbl='total sensitivity',legend_show=1,legend_size=25,maxlegendcol=1,\n",
    "          xdatatick=[],showplot=True, topsens=[], lbl_size=30, yoffset=0.01, senssort=False,\n",
    "          title='total eigenmode sensitivities', xticklabel_size=10, xticklabel_rotation=60) "
   ]
  }
 ],
 "metadata": {
  "kernelspec": {
   "display_name": "wrf-env",
   "language": "python",
   "name": "wrf-env"
  },
  "language_info": {
   "codemirror_mode": {
    "name": "ipython",
    "version": 3
   },
   "file_extension": ".py",
   "mimetype": "text/x-python",
   "name": "python",
   "nbconvert_exporter": "python",
   "pygments_lexer": "ipython3",
   "version": "3.8.12"
  }
 },
 "nbformat": 4,
 "nbformat_minor": 5
}
